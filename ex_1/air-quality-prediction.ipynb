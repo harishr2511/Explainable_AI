{
 "cells": [
  {
   "cell_type": "code",
   "execution_count": 1,
   "id": "e6e12d30",
   "metadata": {
    "execution": {
     "iopub.execute_input": "2024-04-01T18:01:06.100796Z",
     "iopub.status.busy": "2024-04-01T18:01:06.099509Z",
     "iopub.status.idle": "2024-04-01T18:01:06.104438Z",
     "shell.execute_reply": "2024-04-01T18:01:06.105599Z",
     "shell.execute_reply.started": "2024-04-01T08:28:52.188806Z"
    },
    "papermill": {
     "duration": 0.095485,
     "end_time": "2024-04-01T18:01:06.105994",
     "exception": false,
     "start_time": "2024-04-01T18:01:06.010509",
     "status": "completed"
    },
    "tags": []
   },
   "outputs": [],
   "source": [
    "## Importing necessary libraries"
   ]
  },
  {
   "cell_type": "code",
   "execution_count": 2,
   "id": "410e32dc",
   "metadata": {
    "execution": {
     "iopub.execute_input": "2024-04-01T18:01:06.283557Z",
     "iopub.status.busy": "2024-04-01T18:01:06.280154Z",
     "iopub.status.idle": "2024-04-01T18:01:08.010128Z",
     "shell.execute_reply": "2024-04-01T18:01:08.009454Z",
     "shell.execute_reply.started": "2024-04-01T08:28:52.332074Z"
    },
    "papermill": {
     "duration": 1.822343,
     "end_time": "2024-04-01T18:01:08.010320",
     "exception": false,
     "start_time": "2024-04-01T18:01:06.187977",
     "status": "completed"
    },
    "tags": []
   },
   "outputs": [],
   "source": [
    "import pandas as pd\n",
    "import numpy as np\n",
    "import seaborn as sns\n",
    "import matplotlib.pyplot as plt\n",
    "import warnings\n",
    "warnings.filterwarnings(\"ignore\")\n",
    "\n",
    "from sklearn.preprocessing import LabelEncoder\n",
    "from sklearn.model_selection import train_test_split\n",
    "from sklearn.linear_model import LinearRegression\n",
    "from sklearn.tree import DecisionTreeRegressor\n",
    "from sklearn.ensemble import RandomForestRegressor\n",
    "from sklearn import metrics\n",
    "from sklearn.metrics import mean_absolute_error,mean_squared_error,r2_score\n",
    "from sklearn.metrics import accuracy_score,confusion_matrix"
   ]
  },
  {
   "cell_type": "code",
   "execution_count": 3,
   "id": "8af967bd",
   "metadata": {
    "execution": {
     "iopub.execute_input": "2024-04-01T18:01:08.179968Z",
     "iopub.status.busy": "2024-04-01T18:01:08.179168Z",
     "iopub.status.idle": "2024-04-01T18:01:10.019567Z",
     "shell.execute_reply": "2024-04-01T18:01:10.018798Z",
     "shell.execute_reply.started": "2024-04-01T08:28:54.055775Z"
    },
    "papermill": {
     "duration": 1.927366,
     "end_time": "2024-04-01T18:01:10.019789",
     "exception": false,
     "start_time": "2024-04-01T18:01:08.092423",
     "status": "completed"
    },
    "tags": []
   },
   "outputs": [],
   "source": [
    "df=pd.read_csv('../input/india-air-quality-data/data.csv',encoding='unicode_escape')\n",
    "# Reading the dataset"
   ]
  },
  {
   "cell_type": "markdown",
   "id": "8f55f8f6",
   "metadata": {
    "papermill": {
     "duration": 0.079527,
     "end_time": "2024-04-01T18:01:10.182872",
     "exception": false,
     "start_time": "2024-04-01T18:01:10.103345",
     "status": "completed"
    },
    "tags": []
   },
   "source": [
    "## Data Understanding"
   ]
  },
  {
   "cell_type": "code",
   "execution_count": 4,
   "id": "bf978fd1",
   "metadata": {
    "execution": {
     "iopub.execute_input": "2024-04-01T18:01:10.371235Z",
     "iopub.status.busy": "2024-04-01T18:01:10.370220Z",
     "iopub.status.idle": "2024-04-01T18:01:10.396281Z",
     "shell.execute_reply": "2024-04-01T18:01:10.396840Z",
     "shell.execute_reply.started": "2024-04-01T08:28:55.918116Z"
    },
    "papermill": {
     "duration": 0.127448,
     "end_time": "2024-04-01T18:01:10.397058",
     "exception": false,
     "start_time": "2024-04-01T18:01:10.269610",
     "status": "completed"
    },
    "tags": []
   },
   "outputs": [
    {
     "data": {
      "text/html": [
       "<div>\n",
       "<style scoped>\n",
       "    .dataframe tbody tr th:only-of-type {\n",
       "        vertical-align: middle;\n",
       "    }\n",
       "\n",
       "    .dataframe tbody tr th {\n",
       "        vertical-align: top;\n",
       "    }\n",
       "\n",
       "    .dataframe thead th {\n",
       "        text-align: right;\n",
       "    }\n",
       "</style>\n",
       "<table border=\"1\" class=\"dataframe\">\n",
       "  <thead>\n",
       "    <tr style=\"text-align: right;\">\n",
       "      <th></th>\n",
       "      <th>stn_code</th>\n",
       "      <th>sampling_date</th>\n",
       "      <th>state</th>\n",
       "      <th>location</th>\n",
       "      <th>agency</th>\n",
       "      <th>type</th>\n",
       "      <th>so2</th>\n",
       "      <th>no2</th>\n",
       "      <th>rspm</th>\n",
       "      <th>spm</th>\n",
       "      <th>location_monitoring_station</th>\n",
       "      <th>pm2_5</th>\n",
       "      <th>date</th>\n",
       "    </tr>\n",
       "  </thead>\n",
       "  <tbody>\n",
       "    <tr>\n",
       "      <th>0</th>\n",
       "      <td>150.0</td>\n",
       "      <td>February - M021990</td>\n",
       "      <td>Andhra Pradesh</td>\n",
       "      <td>Hyderabad</td>\n",
       "      <td>NaN</td>\n",
       "      <td>Residential, Rural and other Areas</td>\n",
       "      <td>4.8</td>\n",
       "      <td>17.4</td>\n",
       "      <td>NaN</td>\n",
       "      <td>NaN</td>\n",
       "      <td>NaN</td>\n",
       "      <td>NaN</td>\n",
       "      <td>1990-02-01</td>\n",
       "    </tr>\n",
       "    <tr>\n",
       "      <th>1</th>\n",
       "      <td>151.0</td>\n",
       "      <td>February - M021990</td>\n",
       "      <td>Andhra Pradesh</td>\n",
       "      <td>Hyderabad</td>\n",
       "      <td>NaN</td>\n",
       "      <td>Industrial Area</td>\n",
       "      <td>3.1</td>\n",
       "      <td>7.0</td>\n",
       "      <td>NaN</td>\n",
       "      <td>NaN</td>\n",
       "      <td>NaN</td>\n",
       "      <td>NaN</td>\n",
       "      <td>1990-02-01</td>\n",
       "    </tr>\n",
       "    <tr>\n",
       "      <th>2</th>\n",
       "      <td>152.0</td>\n",
       "      <td>February - M021990</td>\n",
       "      <td>Andhra Pradesh</td>\n",
       "      <td>Hyderabad</td>\n",
       "      <td>NaN</td>\n",
       "      <td>Residential, Rural and other Areas</td>\n",
       "      <td>6.2</td>\n",
       "      <td>28.5</td>\n",
       "      <td>NaN</td>\n",
       "      <td>NaN</td>\n",
       "      <td>NaN</td>\n",
       "      <td>NaN</td>\n",
       "      <td>1990-02-01</td>\n",
       "    </tr>\n",
       "    <tr>\n",
       "      <th>3</th>\n",
       "      <td>150.0</td>\n",
       "      <td>March - M031990</td>\n",
       "      <td>Andhra Pradesh</td>\n",
       "      <td>Hyderabad</td>\n",
       "      <td>NaN</td>\n",
       "      <td>Residential, Rural and other Areas</td>\n",
       "      <td>6.3</td>\n",
       "      <td>14.7</td>\n",
       "      <td>NaN</td>\n",
       "      <td>NaN</td>\n",
       "      <td>NaN</td>\n",
       "      <td>NaN</td>\n",
       "      <td>1990-03-01</td>\n",
       "    </tr>\n",
       "    <tr>\n",
       "      <th>4</th>\n",
       "      <td>151.0</td>\n",
       "      <td>March - M031990</td>\n",
       "      <td>Andhra Pradesh</td>\n",
       "      <td>Hyderabad</td>\n",
       "      <td>NaN</td>\n",
       "      <td>Industrial Area</td>\n",
       "      <td>4.7</td>\n",
       "      <td>7.5</td>\n",
       "      <td>NaN</td>\n",
       "      <td>NaN</td>\n",
       "      <td>NaN</td>\n",
       "      <td>NaN</td>\n",
       "      <td>1990-03-01</td>\n",
       "    </tr>\n",
       "  </tbody>\n",
       "</table>\n",
       "</div>"
      ],
      "text/plain": [
       "  stn_code       sampling_date           state   location agency  \\\n",
       "0    150.0  February - M021990  Andhra Pradesh  Hyderabad    NaN   \n",
       "1    151.0  February - M021990  Andhra Pradesh  Hyderabad    NaN   \n",
       "2    152.0  February - M021990  Andhra Pradesh  Hyderabad    NaN   \n",
       "3    150.0     March - M031990  Andhra Pradesh  Hyderabad    NaN   \n",
       "4    151.0     March - M031990  Andhra Pradesh  Hyderabad    NaN   \n",
       "\n",
       "                                 type  so2   no2  rspm  spm  \\\n",
       "0  Residential, Rural and other Areas  4.8  17.4   NaN  NaN   \n",
       "1                     Industrial Area  3.1   7.0   NaN  NaN   \n",
       "2  Residential, Rural and other Areas  6.2  28.5   NaN  NaN   \n",
       "3  Residential, Rural and other Areas  6.3  14.7   NaN  NaN   \n",
       "4                     Industrial Area  4.7   7.5   NaN  NaN   \n",
       "\n",
       "  location_monitoring_station  pm2_5        date  \n",
       "0                         NaN    NaN  1990-02-01  \n",
       "1                         NaN    NaN  1990-02-01  \n",
       "2                         NaN    NaN  1990-02-01  \n",
       "3                         NaN    NaN  1990-03-01  \n",
       "4                         NaN    NaN  1990-03-01  "
      ]
     },
     "execution_count": 4,
     "metadata": {},
     "output_type": "execute_result"
    }
   ],
   "source": [
    "df.head()\n",
    "# Loading the dataset"
   ]
  },
  {
   "cell_type": "code",
   "execution_count": 5,
   "id": "857b85b9",
   "metadata": {
    "execution": {
     "iopub.execute_input": "2024-04-01T18:01:10.588786Z",
     "iopub.status.busy": "2024-04-01T18:01:10.587570Z",
     "iopub.status.idle": "2024-04-01T18:01:10.593550Z",
     "shell.execute_reply": "2024-04-01T18:01:10.594115Z",
     "shell.execute_reply.started": "2024-04-01T08:28:55.955874Z"
    },
    "papermill": {
     "duration": 0.108338,
     "end_time": "2024-04-01T18:01:10.594327",
     "exception": false,
     "start_time": "2024-04-01T18:01:10.485989",
     "status": "completed"
    },
    "tags": []
   },
   "outputs": [
    {
     "data": {
      "text/plain": [
       "(435742, 13)"
      ]
     },
     "execution_count": 5,
     "metadata": {},
     "output_type": "execute_result"
    }
   ],
   "source": [
    "df.shape\n",
    "# As we can see that there are 4,35,742 rows and 13 columns in the dataset"
   ]
  },
  {
   "cell_type": "code",
   "execution_count": 6,
   "id": "418acc67",
   "metadata": {
    "execution": {
     "iopub.execute_input": "2024-04-01T18:01:10.762969Z",
     "iopub.status.busy": "2024-04-01T18:01:10.761898Z",
     "iopub.status.idle": "2024-04-01T18:01:10.957797Z",
     "shell.execute_reply": "2024-04-01T18:01:10.958440Z",
     "shell.execute_reply.started": "2024-04-01T08:28:55.964924Z"
    },
    "papermill": {
     "duration": 0.281939,
     "end_time": "2024-04-01T18:01:10.958669",
     "exception": false,
     "start_time": "2024-04-01T18:01:10.676730",
     "status": "completed"
    },
    "tags": []
   },
   "outputs": [
    {
     "name": "stdout",
     "output_type": "stream",
     "text": [
      "<class 'pandas.core.frame.DataFrame'>\n",
      "RangeIndex: 435742 entries, 0 to 435741\n",
      "Data columns (total 13 columns):\n",
      " #   Column                       Non-Null Count   Dtype  \n",
      "---  ------                       --------------   -----  \n",
      " 0   stn_code                     291665 non-null  object \n",
      " 1   sampling_date                435739 non-null  object \n",
      " 2   state                        435742 non-null  object \n",
      " 3   location                     435739 non-null  object \n",
      " 4   agency                       286261 non-null  object \n",
      " 5   type                         430349 non-null  object \n",
      " 6   so2                          401096 non-null  float64\n",
      " 7   no2                          419509 non-null  float64\n",
      " 8   rspm                         395520 non-null  float64\n",
      " 9   spm                          198355 non-null  float64\n",
      " 10  location_monitoring_station  408251 non-null  object \n",
      " 11  pm2_5                        9314 non-null    float64\n",
      " 12  date                         435735 non-null  object \n",
      "dtypes: float64(5), object(8)\n",
      "memory usage: 43.2+ MB\n"
     ]
    }
   ],
   "source": [
    "df.info()\n",
    "# Checking the over all information on the dataset."
   ]
  },
  {
   "cell_type": "code",
   "execution_count": 7,
   "id": "d9d7918a",
   "metadata": {
    "execution": {
     "iopub.execute_input": "2024-04-01T18:01:11.137305Z",
     "iopub.status.busy": "2024-04-01T18:01:11.136350Z",
     "iopub.status.idle": "2024-04-01T18:01:11.311479Z",
     "shell.execute_reply": "2024-04-01T18:01:11.310877Z",
     "shell.execute_reply.started": "2024-04-01T08:28:56.359273Z"
    },
    "papermill": {
     "duration": 0.269454,
     "end_time": "2024-04-01T18:01:11.311644",
     "exception": false,
     "start_time": "2024-04-01T18:01:11.042190",
     "status": "completed"
    },
    "tags": []
   },
   "outputs": [
    {
     "data": {
      "text/plain": [
       "stn_code                       144077\n",
       "sampling_date                       3\n",
       "state                               0\n",
       "location                            3\n",
       "agency                         149481\n",
       "type                             5393\n",
       "so2                             34646\n",
       "no2                             16233\n",
       "rspm                            40222\n",
       "spm                            237387\n",
       "location_monitoring_station     27491\n",
       "pm2_5                          426428\n",
       "date                                7\n",
       "dtype: int64"
      ]
     },
     "execution_count": 7,
     "metadata": {},
     "output_type": "execute_result"
    }
   ],
   "source": [
    "df.isnull().sum()\n",
    "# There are a lot of missing values present in the dataset"
   ]
  },
  {
   "cell_type": "code",
   "execution_count": 8,
   "id": "dbdb41c8",
   "metadata": {
    "execution": {
     "iopub.execute_input": "2024-04-01T18:01:11.499088Z",
     "iopub.status.busy": "2024-04-01T18:01:11.498283Z",
     "iopub.status.idle": "2024-04-01T18:01:11.591221Z",
     "shell.execute_reply": "2024-04-01T18:01:11.591859Z",
     "shell.execute_reply.started": "2024-04-01T08:28:56.733654Z"
    },
    "papermill": {
     "duration": 0.196622,
     "end_time": "2024-04-01T18:01:11.592135",
     "exception": false,
     "start_time": "2024-04-01T18:01:11.395513",
     "status": "completed"
    },
    "tags": []
   },
   "outputs": [
    {
     "data": {
      "text/html": [
       "<div>\n",
       "<style scoped>\n",
       "    .dataframe tbody tr th:only-of-type {\n",
       "        vertical-align: middle;\n",
       "    }\n",
       "\n",
       "    .dataframe tbody tr th {\n",
       "        vertical-align: top;\n",
       "    }\n",
       "\n",
       "    .dataframe thead th {\n",
       "        text-align: right;\n",
       "    }\n",
       "</style>\n",
       "<table border=\"1\" class=\"dataframe\">\n",
       "  <thead>\n",
       "    <tr style=\"text-align: right;\">\n",
       "      <th></th>\n",
       "      <th>so2</th>\n",
       "      <th>no2</th>\n",
       "      <th>rspm</th>\n",
       "      <th>spm</th>\n",
       "      <th>pm2_5</th>\n",
       "    </tr>\n",
       "  </thead>\n",
       "  <tbody>\n",
       "    <tr>\n",
       "      <th>count</th>\n",
       "      <td>401096.000000</td>\n",
       "      <td>419509.000000</td>\n",
       "      <td>395520.000000</td>\n",
       "      <td>198355.000000</td>\n",
       "      <td>9314.000000</td>\n",
       "    </tr>\n",
       "    <tr>\n",
       "      <th>mean</th>\n",
       "      <td>10.829414</td>\n",
       "      <td>25.809623</td>\n",
       "      <td>108.832784</td>\n",
       "      <td>220.783480</td>\n",
       "      <td>40.791467</td>\n",
       "    </tr>\n",
       "    <tr>\n",
       "      <th>std</th>\n",
       "      <td>11.177187</td>\n",
       "      <td>18.503086</td>\n",
       "      <td>74.872430</td>\n",
       "      <td>151.395457</td>\n",
       "      <td>30.832525</td>\n",
       "    </tr>\n",
       "    <tr>\n",
       "      <th>min</th>\n",
       "      <td>0.000000</td>\n",
       "      <td>0.000000</td>\n",
       "      <td>0.000000</td>\n",
       "      <td>0.000000</td>\n",
       "      <td>3.000000</td>\n",
       "    </tr>\n",
       "    <tr>\n",
       "      <th>25%</th>\n",
       "      <td>5.000000</td>\n",
       "      <td>14.000000</td>\n",
       "      <td>56.000000</td>\n",
       "      <td>111.000000</td>\n",
       "      <td>24.000000</td>\n",
       "    </tr>\n",
       "    <tr>\n",
       "      <th>50%</th>\n",
       "      <td>8.000000</td>\n",
       "      <td>22.000000</td>\n",
       "      <td>90.000000</td>\n",
       "      <td>187.000000</td>\n",
       "      <td>32.000000</td>\n",
       "    </tr>\n",
       "    <tr>\n",
       "      <th>75%</th>\n",
       "      <td>13.700000</td>\n",
       "      <td>32.200000</td>\n",
       "      <td>142.000000</td>\n",
       "      <td>296.000000</td>\n",
       "      <td>46.000000</td>\n",
       "    </tr>\n",
       "    <tr>\n",
       "      <th>max</th>\n",
       "      <td>909.000000</td>\n",
       "      <td>876.000000</td>\n",
       "      <td>6307.033333</td>\n",
       "      <td>3380.000000</td>\n",
       "      <td>504.000000</td>\n",
       "    </tr>\n",
       "  </tbody>\n",
       "</table>\n",
       "</div>"
      ],
      "text/plain": [
       "                 so2            no2           rspm            spm        pm2_5\n",
       "count  401096.000000  419509.000000  395520.000000  198355.000000  9314.000000\n",
       "mean       10.829414      25.809623     108.832784     220.783480    40.791467\n",
       "std        11.177187      18.503086      74.872430     151.395457    30.832525\n",
       "min         0.000000       0.000000       0.000000       0.000000     3.000000\n",
       "25%         5.000000      14.000000      56.000000     111.000000    24.000000\n",
       "50%         8.000000      22.000000      90.000000     187.000000    32.000000\n",
       "75%        13.700000      32.200000     142.000000     296.000000    46.000000\n",
       "max       909.000000     876.000000    6307.033333    3380.000000   504.000000"
      ]
     },
     "execution_count": 8,
     "metadata": {},
     "output_type": "execute_result"
    }
   ],
   "source": [
    "df.describe()\n",
    "# Checking the descriptive stats of the numeric values present in the data like mean, standard deviation, min values and max value present in the data"
   ]
  },
  {
   "cell_type": "code",
   "execution_count": 9,
   "id": "cdaa5d31",
   "metadata": {
    "execution": {
     "iopub.execute_input": "2024-04-01T18:01:11.762639Z",
     "iopub.status.busy": "2024-04-01T18:01:11.761837Z",
     "iopub.status.idle": "2024-04-01T18:01:12.015066Z",
     "shell.execute_reply": "2024-04-01T18:01:12.014460Z",
     "shell.execute_reply.started": "2024-04-01T08:28:56.843343Z"
    },
    "papermill": {
     "duration": 0.339907,
     "end_time": "2024-04-01T18:01:12.015250",
     "exception": false,
     "start_time": "2024-04-01T18:01:11.675343",
     "status": "completed"
    },
    "tags": []
   },
   "outputs": [
    {
     "data": {
      "text/plain": [
       "stn_code                        803\n",
       "sampling_date                  5485\n",
       "state                            37\n",
       "location                        304\n",
       "agency                           64\n",
       "type                             10\n",
       "so2                            4197\n",
       "no2                            6864\n",
       "rspm                           6065\n",
       "spm                            6668\n",
       "location_monitoring_station     991\n",
       "pm2_5                           433\n",
       "date                           5067\n",
       "dtype: int64"
      ]
     },
     "execution_count": 9,
     "metadata": {},
     "output_type": "execute_result"
    }
   ],
   "source": [
    "df.nunique()\n",
    "# These are all the unique values present in the dataframe"
   ]
  },
  {
   "cell_type": "code",
   "execution_count": 10,
   "id": "f98ae859",
   "metadata": {
    "execution": {
     "iopub.execute_input": "2024-04-01T18:01:12.195400Z",
     "iopub.status.busy": "2024-04-01T18:01:12.194423Z",
     "iopub.status.idle": "2024-04-01T18:01:12.198028Z",
     "shell.execute_reply": "2024-04-01T18:01:12.198543Z",
     "shell.execute_reply.started": "2024-04-01T08:28:57.269675Z"
    },
    "papermill": {
     "duration": 0.09782,
     "end_time": "2024-04-01T18:01:12.198769",
     "exception": false,
     "start_time": "2024-04-01T18:01:12.100949",
     "status": "completed"
    },
    "tags": []
   },
   "outputs": [
    {
     "data": {
      "text/plain": [
       "Index(['stn_code', 'sampling_date', 'state', 'location', 'agency', 'type',\n",
       "       'so2', 'no2', 'rspm', 'spm', 'location_monitoring_station', 'pm2_5',\n",
       "       'date'],\n",
       "      dtype='object')"
      ]
     },
     "execution_count": 10,
     "metadata": {},
     "output_type": "execute_result"
    }
   ],
   "source": [
    "df.columns\n",
    "# These are all the columns present in the dataset."
   ]
  },
  {
   "cell_type": "markdown",
   "id": "b94b09c9",
   "metadata": {
    "papermill": {
     "duration": 0.082289,
     "end_time": "2024-04-01T18:01:12.365262",
     "exception": false,
     "start_time": "2024-04-01T18:01:12.282973",
     "status": "completed"
    },
    "tags": []
   },
   "source": [
    "stn_code (station code)\n",
    "sampling_date (date of sample collection)\n",
    "state (Indian State)\n",
    "location (location of sample collection)\n",
    "agency\n",
    "type (type of area)\n",
    "so2 (sulphur dioxide concentration)\n",
    "no2 (nitrogen dioxide concentration)\n",
    "rspm (respirable suspended particualte matter concentration)\n",
    "spm (suspended particulate matter)\n",
    "location_monitoring_station\n",
    "pm2_5 (particulate matter 2.5)\n",
    "date (date)"
   ]
  },
  {
   "cell_type": "markdown",
   "id": "21cd997d",
   "metadata": {
    "papermill": {
     "duration": 0.085249,
     "end_time": "2024-04-01T18:01:12.533569",
     "exception": false,
     "start_time": "2024-04-01T18:01:12.448320",
     "status": "completed"
    },
    "tags": []
   },
   "source": [
    "## Data Visualization"
   ]
  },
  {
   "cell_type": "code",
   "execution_count": 11,
   "id": "f1297a52",
   "metadata": {
    "execution": {
     "iopub.execute_input": "2024-04-01T18:01:12.724455Z",
     "iopub.status.busy": "2024-04-01T18:01:12.706134Z",
     "iopub.status.idle": "2024-04-01T18:01:52.166030Z",
     "shell.execute_reply": "2024-04-01T18:01:52.166916Z",
     "shell.execute_reply.started": "2024-04-01T08:28:57.279279Z"
    },
    "papermill": {
     "duration": 39.546898,
     "end_time": "2024-04-01T18:01:52.167212",
     "exception": false,
     "start_time": "2024-04-01T18:01:12.620314",
     "status": "completed"
    },
    "tags": []
   },
   "outputs": [
    {
     "data": {
      "text/plain": [
       "<seaborn.axisgrid.PairGrid at 0x7880802a5810>"
      ]
     },
     "execution_count": 11,
     "metadata": {},
     "output_type": "execute_result"
    },
    {
     "data": {
      "image/png": "[encoded data removed]",
      "text/plain": [
       "<Figure size 900x900 with 30 Axes>"
      ]
     },
     "metadata": {
      "needs_background": "light"
     },
     "output_type": "display_data"
    }
   ],
   "source": [
    "sns.pairplot(data=df)"
   ]
  },
  {
   "cell_type": "code",
   "execution_count": 12,
   "id": "52676311",
   "metadata": {
    "execution": {
     "iopub.execute_input": "2024-04-01T18:01:52.375620Z",
     "iopub.status.busy": "2024-04-01T18:01:52.374609Z",
     "iopub.status.idle": "2024-04-01T18:01:52.404416Z",
     "shell.execute_reply": "2024-04-01T18:01:52.404968Z",
     "shell.execute_reply.started": "2024-04-01T08:29:40.793617Z"
    },
    "papermill": {
     "duration": 0.139318,
     "end_time": "2024-04-01T18:01:52.405206",
     "exception": false,
     "start_time": "2024-04-01T18:01:52.265888",
     "status": "completed"
    },
    "tags": []
   },
   "outputs": [
    {
     "data": {
      "text/plain": [
       "Maharashtra                    60384\n",
       "Uttar Pradesh                  42816\n",
       "Andhra Pradesh                 26368\n",
       "Punjab                         25634\n",
       "Rajasthan                      25589\n",
       "Kerala                         24728\n",
       "Himachal Pradesh               22896\n",
       "West Bengal                    22463\n",
       "Gujarat                        21279\n",
       "Tamil Nadu                     20597\n",
       "Madhya Pradesh                 19920\n",
       "Assam                          19361\n",
       "Odisha                         19279\n",
       "Karnataka                      17119\n",
       "Delhi                           8551\n",
       "Chandigarh                      8520\n",
       "Chhattisgarh                    7831\n",
       "Goa                             6206\n",
       "Jharkhand                       5968\n",
       "Mizoram                         5338\n",
       "Telangana                       3978\n",
       "Meghalaya                       3853\n",
       "Puducherry                      3785\n",
       "Haryana                         3420\n",
       "Nagaland                        2463\n",
       "Bihar                           2275\n",
       "Uttarakhand                     1961\n",
       "Jammu & Kashmir                 1289\n",
       "Daman & Diu                      782\n",
       "Dadra & Nagar Haveli             634\n",
       "Uttaranchal                      285\n",
       "Arunachal Pradesh                 90\n",
       "Manipur                           76\n",
       "Sikkim                             1\n",
       "andaman-and-nicobar-islands        1\n",
       "Lakshadweep                        1\n",
       "Tripura                            1\n",
       "Name: state, dtype: int64"
      ]
     },
     "execution_count": 12,
     "metadata": {},
     "output_type": "execute_result"
    }
   ],
   "source": [
    "df['state'].value_counts()\n",
    "# Viewing the count of values present in the state column"
   ]
  },
  {
   "cell_type": "code",
   "execution_count": 13,
   "id": "289d42ee",
   "metadata": {
    "execution": {
     "iopub.execute_input": "2024-04-01T18:01:52.610475Z",
     "iopub.status.busy": "2024-04-01T18:01:52.609301Z",
     "iopub.status.idle": "2024-04-01T18:01:53.305298Z",
     "shell.execute_reply": "2024-04-01T18:01:53.305953Z",
     "shell.execute_reply.started": "2024-04-01T08:29:40.861555Z"
    },
    "papermill": {
     "duration": 0.798382,
     "end_time": "2024-04-01T18:01:53.306196",
     "exception": false,
     "start_time": "2024-04-01T18:01:52.507814",
     "status": "completed"
    },
    "tags": []
   },
   "outputs": [
    {
     "data": {
      "text/plain": [
       "[]"
      ]
     },
     "execution_count": 13,
     "metadata": {},
     "output_type": "execute_result"
    },
    {
     "data": {
      "image/png": "[encoded data removed]",
      "text/plain": [
       "<Figure size 1080x432 with 1 Axes>"
      ]
     },
     "metadata": {
      "needs_background": "light"
     },
     "output_type": "display_data"
    }
   ],
   "source": [
    "plt.figure(figsize=(15, 6))\n",
    "plt.xticks(rotation=90)\n",
    "df.state.hist()\n",
    "plt.xlabel('state')\n",
    "plt.ylabel('Frequencies')\n",
    "plt.plot()\n",
    "# The visualization shows us the count of states present in the dataset."
   ]
  },
  {
   "cell_type": "code",
   "execution_count": 14,
   "id": "6eb1496f",
   "metadata": {
    "execution": {
     "iopub.execute_input": "2024-04-01T18:01:53.528822Z",
     "iopub.status.busy": "2024-04-01T18:01:53.525394Z",
     "iopub.status.idle": "2024-04-01T18:01:53.533105Z",
     "shell.execute_reply": "2024-04-01T18:01:53.532477Z",
     "shell.execute_reply.started": "2024-04-01T08:29:41.635452Z"
    },
    "papermill": {
     "duration": 0.13433,
     "end_time": "2024-04-01T18:01:53.533278",
     "exception": false,
     "start_time": "2024-04-01T18:01:53.398948",
     "status": "completed"
    },
    "tags": []
   },
   "outputs": [
    {
     "data": {
      "text/plain": [
       "Residential, Rural and other Areas    179014\n",
       "Industrial Area                        96091\n",
       "Residential and others                 86791\n",
       "Industrial Areas                       51747\n",
       "Sensitive Area                          8980\n",
       "Sensitive Areas                         5536\n",
       "RIRUO                                   1304\n",
       "Sensitive                                495\n",
       "Industrial                               233\n",
       "Residential                              158\n",
       "Name: type, dtype: int64"
      ]
     },
     "execution_count": 14,
     "metadata": {},
     "output_type": "execute_result"
    }
   ],
   "source": [
    "df['type'].value_counts()\n",
    "# Viewing the count of values present in the type column"
   ]
  },
  {
   "cell_type": "code",
   "execution_count": 15,
   "id": "b3267971",
   "metadata": {
    "execution": {
     "iopub.execute_input": "2024-04-01T18:01:53.727195Z",
     "iopub.status.busy": "2024-04-01T18:01:53.726276Z",
     "iopub.status.idle": "2024-04-01T18:01:54.135895Z",
     "shell.execute_reply": "2024-04-01T18:01:54.136572Z",
     "shell.execute_reply.started": "2024-04-01T08:29:41.717251Z"
    },
    "papermill": {
     "duration": 0.511498,
     "end_time": "2024-04-01T18:01:54.136820",
     "exception": false,
     "start_time": "2024-04-01T18:01:53.625322",
     "status": "completed"
    },
    "tags": []
   },
   "outputs": [
    {
     "data": {
      "text/plain": [
       "[]"
      ]
     },
     "execution_count": 15,
     "metadata": {},
     "output_type": "execute_result"
    },
    {
     "data": {
      "image/png": "[encoded data removed]",
      "text/plain": [
       "<Figure size 1080x432 with 1 Axes>"
      ]
     },
     "metadata": {
      "needs_background": "light"
     },
     "output_type": "display_data"
    }
   ],
   "source": [
    "plt.figure(figsize=(15, 6))\n",
    "plt.xticks(rotation=90)\n",
    "df.type.hist()\n",
    "plt.xlabel('Type')\n",
    "plt.ylabel('Frequencies')\n",
    "plt.plot()\n",
    "# The visualization shows us the count of Types present in the dataset."
   ]
  },
  {
   "cell_type": "code",
   "execution_count": 16,
   "id": "e74e77fe",
   "metadata": {
    "execution": {
     "iopub.execute_input": "2024-04-01T18:01:54.352907Z",
     "iopub.status.busy": "2024-04-01T18:01:54.348724Z",
     "iopub.status.idle": "2024-04-01T18:01:54.357608Z",
     "shell.execute_reply": "2024-04-01T18:01:54.356974Z",
     "shell.execute_reply.started": "2024-04-01T08:29:42.316379Z"
    },
    "papermill": {
     "duration": 0.126953,
     "end_time": "2024-04-01T18:01:54.357806",
     "exception": false,
     "start_time": "2024-04-01T18:01:54.230853",
     "status": "completed"
    },
    "tags": []
   },
   "outputs": [
    {
     "data": {
      "text/plain": [
       "Maharashtra State Pollution Control Board                                 27857\n",
       "Uttar Pradesh State Pollution Control Board                               22686\n",
       "Andhra Pradesh State Pollution Control Board                              19139\n",
       "Himachal Pradesh State Environment Proection & Pollution Control Board    15287\n",
       "Punjab State Pollution Control Board                                      15232\n",
       "                                                                          ...  \n",
       "Arunachal Pradesh State Pollution Control Board                              90\n",
       "TNPC                                                                         82\n",
       "RPCB                                                                         63\n",
       "VRCE                                                                         61\n",
       "RJPB                                                                         53\n",
       "Name: agency, Length: 64, dtype: int64"
      ]
     },
     "execution_count": 16,
     "metadata": {},
     "output_type": "execute_result"
    }
   ],
   "source": [
    "df['agency'].value_counts()\n",
    "# Viewing the counts of values present in the agency column"
   ]
  },
  {
   "cell_type": "code",
   "execution_count": 17,
   "id": "22c26af8",
   "metadata": {
    "execution": {
     "iopub.execute_input": "2024-04-01T18:01:54.550016Z",
     "iopub.status.busy": "2024-04-01T18:01:54.549238Z",
     "iopub.status.idle": "2024-04-01T18:01:56.431769Z",
     "shell.execute_reply": "2024-04-01T18:01:56.432345Z",
     "shell.execute_reply.started": "2024-04-01T08:29:42.374026Z"
    },
    "papermill": {
     "duration": 1.980467,
     "end_time": "2024-04-01T18:01:56.432572",
     "exception": false,
     "start_time": "2024-04-01T18:01:54.452105",
     "status": "completed"
    },
    "tags": []
   },
   "outputs": [
    {
     "data": {
      "text/plain": [
       "[]"
      ]
     },
     "execution_count": 17,
     "metadata": {},
     "output_type": "execute_result"
    },
    {
     "data": {
      "image/png": "[encoded data removed]",
      "text/plain": [
       "<Figure size 1080x432 with 1 Axes>"
      ]
     },
     "metadata": {
      "needs_background": "light"
     },
     "output_type": "display_data"
    }
   ],
   "source": [
    "plt.figure(figsize=(15, 6))\n",
    "plt.xticks(rotation=90)\n",
    "df.agency.hist()\n",
    "plt.xlabel('Agency')\n",
    "plt.ylabel('Frequencies')\n",
    "plt.plot()\n",
    "# The visualization shows us the count of Agency present in the dataset."
   ]
  },
  {
   "cell_type": "code",
   "execution_count": 18,
   "id": "931dcd2d",
   "metadata": {
    "execution": {
     "iopub.execute_input": "2024-04-01T18:01:56.638440Z",
     "iopub.status.busy": "2024-04-01T18:01:56.637560Z",
     "iopub.status.idle": "2024-04-01T18:02:02.673957Z",
     "shell.execute_reply": "2024-04-01T18:02:02.674497Z",
     "shell.execute_reply.started": "2024-04-01T08:29:44.511207Z"
    },
    "papermill": {
     "duration": 6.140164,
     "end_time": "2024-04-01T18:02:02.674709",
     "exception": false,
     "start_time": "2024-04-01T18:01:56.534545",
     "status": "completed"
    },
    "tags": []
   },
   "outputs": [
    {
     "data": {
      "image/png": "[encoded data removed]",
      "text/plain": [
       "<Figure size 2160x720 with 1 Axes>"
      ]
     },
     "metadata": {
      "needs_background": "light"
     },
     "output_type": "display_data"
    }
   ],
   "source": [
    "plt.figure(figsize=(30, 10))\n",
    "plt.xticks(rotation=90)\n",
    "sns.barplot(x='state',y='so2',data=df);\n",
    "# This visualization shows the name of the state having higher so2 levels in the air which is Uttaranchal followed by Uttarakhand"
   ]
  },
  {
   "cell_type": "code",
   "execution_count": 19,
   "id": "d155807c",
   "metadata": {
    "execution": {
     "iopub.execute_input": "2024-04-01T18:02:02.888213Z",
     "iopub.status.busy": "2024-04-01T18:02:02.887022Z",
     "iopub.status.idle": "2024-04-01T18:02:02.890005Z",
     "shell.execute_reply": "2024-04-01T18:02:02.890506Z",
     "shell.execute_reply.started": "2024-04-01T08:29:51.205253Z"
    },
    "papermill": {
     "duration": 0.111007,
     "end_time": "2024-04-01T18:02:02.890726",
     "exception": false,
     "start_time": "2024-04-01T18:02:02.779719",
     "status": "completed"
    },
    "tags": []
   },
   "outputs": [],
   "source": [
    "plt.rcParams['figure.figsize']=(30,10)"
   ]
  },
  {
   "cell_type": "code",
   "execution_count": 20,
   "id": "b5f23619",
   "metadata": {
    "execution": {
     "iopub.execute_input": "2024-04-01T18:02:03.105250Z",
     "iopub.status.busy": "2024-04-01T18:02:03.104089Z",
     "iopub.status.idle": "2024-04-01T18:02:03.984892Z",
     "shell.execute_reply": "2024-04-01T18:02:03.984319Z",
     "shell.execute_reply.started": "2024-04-01T08:29:51.212396Z"
    },
    "papermill": {
     "duration": 0.993944,
     "end_time": "2024-04-01T18:02:03.985068",
     "exception": false,
     "start_time": "2024-04-01T18:02:02.991124",
     "status": "completed"
    },
    "tags": []
   },
   "outputs": [
    {
     "data": {
      "image/png": "[encoded data removed]",
      "text/plain": [
       "<Figure size 2160x720 with 1 Axes>"
      ]
     },
     "metadata": {
      "needs_background": "light"
     },
     "output_type": "display_data"
    }
   ],
   "source": [
    "df[['so2','state']].groupby([\"state\"]).mean().sort_values(by='so2').plot.bar(color='purple')\n",
    "plt.show()\n",
    "# We can also use the groupby function to sort values in an ascending order based on the x-axis, y-axis and its keys\n",
    "# Below we get a clear picture of the states in an increasing order based on their so2 levels."
   ]
  },
  {
   "cell_type": "code",
   "execution_count": 21,
   "id": "eeb52939",
   "metadata": {
    "execution": {
     "iopub.execute_input": "2024-04-01T18:02:04.194666Z",
     "iopub.status.busy": "2024-04-01T18:02:04.193907Z",
     "iopub.status.idle": "2024-04-01T18:02:10.329951Z",
     "shell.execute_reply": "2024-04-01T18:02:10.330494Z",
     "shell.execute_reply.started": "2024-04-01T08:29:52.234964Z"
    },
    "papermill": {
     "duration": 6.242478,
     "end_time": "2024-04-01T18:02:10.330714",
     "exception": false,
     "start_time": "2024-04-01T18:02:04.088236",
     "status": "completed"
    },
    "tags": []
   },
   "outputs": [
    {
     "data": {
      "image/png": "[encoded data removed]",
      "text/plain": [
       "<Figure size 2160x720 with 1 Axes>"
      ]
     },
     "metadata": {
      "needs_background": "light"
     },
     "output_type": "display_data"
    }
   ],
   "source": [
    "plt.figure(figsize=(30, 10))\n",
    "plt.xticks(rotation=90)\n",
    "sns.barplot(x='state',y='no2',data=df);\n",
    "# West bengal has a higher no2 level compared to other states "
   ]
  },
  {
   "cell_type": "code",
   "execution_count": 22,
   "id": "13131fe3",
   "metadata": {
    "execution": {
     "iopub.execute_input": "2024-04-01T18:02:10.567276Z",
     "iopub.status.busy": "2024-04-01T18:02:10.566448Z",
     "iopub.status.idle": "2024-04-01T18:02:11.096815Z",
     "shell.execute_reply": "2024-04-01T18:02:11.097406Z",
     "shell.execute_reply.started": "2024-04-01T08:29:58.958657Z"
    },
    "papermill": {
     "duration": 0.662351,
     "end_time": "2024-04-01T18:02:11.097637",
     "exception": false,
     "start_time": "2024-04-01T18:02:10.435286",
     "status": "completed"
    },
    "tags": []
   },
   "outputs": [
    {
     "data": {
      "image/png": "[encoded data removed]",
      "text/plain": [
       "<Figure size 2160x720 with 1 Axes>"
      ]
     },
     "metadata": {
      "needs_background": "light"
     },
     "output_type": "display_data"
    }
   ],
   "source": [
    "df[['no2','state']].groupby([\"state\"]).mean().sort_values(by='no2').plot.bar(color='purple')\n",
    "plt.show()\n",
    "# We can also use the groupby function to sort values in an ascending order based on the x-axis, y-axis and its keys\n",
    "# Below we get a clear picture of the states in an increasing order based on their no2 levels."
   ]
  },
  {
   "cell_type": "code",
   "execution_count": 23,
   "id": "55e2b353",
   "metadata": {
    "execution": {
     "iopub.execute_input": "2024-04-01T18:02:11.336067Z",
     "iopub.status.busy": "2024-04-01T18:02:11.335232Z",
     "iopub.status.idle": "2024-04-01T18:02:17.200295Z",
     "shell.execute_reply": "2024-04-01T18:02:17.200846Z",
     "shell.execute_reply.started": "2024-04-01T08:29:59.619272Z"
    },
    "papermill": {
     "duration": 5.996144,
     "end_time": "2024-04-01T18:02:17.201054",
     "exception": false,
     "start_time": "2024-04-01T18:02:11.204910",
     "status": "completed"
    },
    "tags": []
   },
   "outputs": [
    {
     "data": {
      "image/png": "[encoded data removed]",
      "text/plain": [
       "<Figure size 2160x720 with 1 Axes>"
      ]
     },
     "metadata": {
      "needs_background": "light"
     },
     "output_type": "display_data"
    }
   ],
   "source": [
    "plt.figure(figsize=(30, 10))\n",
    "plt.xticks(rotation=90)\n",
    "sns.barplot(x='state',y='rspm',data=df);\n",
    "# Delhi has higher rspm level compared to other states "
   ]
  },
  {
   "cell_type": "code",
   "execution_count": 24,
   "id": "750c596c",
   "metadata": {
    "execution": {
     "iopub.execute_input": "2024-04-01T18:02:17.477599Z",
     "iopub.status.busy": "2024-04-01T18:02:17.444129Z",
     "iopub.status.idle": "2024-04-01T18:02:21.163548Z",
     "shell.execute_reply": "2024-04-01T18:02:21.162844Z",
     "shell.execute_reply.started": "2024-04-01T08:30:06.140117Z"
    },
    "papermill": {
     "duration": 3.850005,
     "end_time": "2024-04-01T18:02:21.163722",
     "exception": false,
     "start_time": "2024-04-01T18:02:17.313717",
     "status": "completed"
    },
    "tags": []
   },
   "outputs": [
    {
     "data": {
      "image/png": "[encoded data removed]",
      "text/plain": [
       "<Figure size 2160x720 with 1 Axes>"
      ]
     },
     "metadata": {
      "needs_background": "light"
     },
     "output_type": "display_data"
    }
   ],
   "source": [
    "plt.figure(figsize=(30, 10))\n",
    "plt.xticks(rotation=90)\n",
    "sns.barplot(x='state',y='spm',data=df);\n",
    "# Delhi has higher spm level compared to other states "
   ]
  },
  {
   "cell_type": "code",
   "execution_count": 25,
   "id": "2dd82333",
   "metadata": {
    "execution": {
     "iopub.execute_input": "2024-04-01T18:02:21.403110Z",
     "iopub.status.busy": "2024-04-01T18:02:21.387679Z",
     "iopub.status.idle": "2024-04-01T18:02:22.515837Z",
     "shell.execute_reply": "2024-04-01T18:02:22.516461Z",
     "shell.execute_reply.started": "2024-04-01T08:30:10.411043Z"
    },
    "papermill": {
     "duration": 1.243129,
     "end_time": "2024-04-01T18:02:22.516695",
     "exception": false,
     "start_time": "2024-04-01T18:02:21.273566",
     "status": "completed"
    },
    "tags": []
   },
   "outputs": [
    {
     "data": {
      "image/png": "[encoded data removed]",
      "text/plain": [
       "<Figure size 2160x720 with 1 Axes>"
      ]
     },
     "metadata": {
      "needs_background": "light"
     },
     "output_type": "display_data"
    }
   ],
   "source": [
    "plt.figure(figsize=(30, 10))\n",
    "plt.xticks(rotation=90)\n",
    "sns.barplot(x='state',y='pm2_5',data=df);\n",
    "# Delhi has higher pm2_5 level compared to other states "
   ]
  },
  {
   "cell_type": "markdown",
   "id": "6863d1df",
   "metadata": {
    "papermill": {
     "duration": 0.112929,
     "end_time": "2024-04-01T18:02:22.743382",
     "exception": false,
     "start_time": "2024-04-01T18:02:22.630453",
     "status": "completed"
    },
    "tags": []
   },
   "source": [
    "### Checking all null values and treating those null values."
   ]
  },
  {
   "cell_type": "code",
   "execution_count": 26,
   "id": "2936f0e2",
   "metadata": {
    "execution": {
     "iopub.execute_input": "2024-04-01T18:02:22.978118Z",
     "iopub.status.busy": "2024-04-01T18:02:22.976983Z",
     "iopub.status.idle": "2024-04-01T18:02:23.147534Z",
     "shell.execute_reply": "2024-04-01T18:02:23.146656Z",
     "shell.execute_reply.started": "2024-04-01T08:30:11.886528Z"
    },
    "papermill": {
     "duration": 0.288754,
     "end_time": "2024-04-01T18:02:23.147714",
     "exception": false,
     "start_time": "2024-04-01T18:02:22.858960",
     "status": "completed"
    },
    "tags": []
   },
   "outputs": [],
   "source": [
    "nullvalues = df.isnull().sum().sort_values(ascending=False)\n",
    "# Checking all null values"
   ]
  },
  {
   "cell_type": "code",
   "execution_count": 27,
   "id": "56f3e423",
   "metadata": {
    "execution": {
     "iopub.execute_input": "2024-04-01T18:02:23.382650Z",
     "iopub.status.busy": "2024-04-01T18:02:23.381638Z",
     "iopub.status.idle": "2024-04-01T18:02:23.385292Z",
     "shell.execute_reply": "2024-04-01T18:02:23.385817Z",
     "shell.execute_reply.started": "2024-04-01T08:30:12.254933Z"
    },
    "papermill": {
     "duration": 0.124034,
     "end_time": "2024-04-01T18:02:23.386034",
     "exception": false,
     "start_time": "2024-04-01T18:02:23.262000",
     "status": "completed"
    },
    "tags": []
   },
   "outputs": [
    {
     "data": {
      "text/plain": [
       "pm2_5                          426428\n",
       "spm                            237387\n",
       "agency                         149481\n",
       "stn_code                       144077\n",
       "rspm                            40222\n",
       "so2                             34646\n",
       "location_monitoring_station     27491\n",
       "no2                             16233\n",
       "type                             5393\n",
       "date                                7\n",
       "sampling_date                       3\n",
       "location                            3\n",
       "state                               0\n",
       "dtype: int64"
      ]
     },
     "execution_count": 27,
     "metadata": {},
     "output_type": "execute_result"
    }
   ],
   "source": [
    "nullvalues\n",
    "# higher null values present in pm2_5 followed by spm"
   ]
  },
  {
   "cell_type": "code",
   "execution_count": 28,
   "id": "63f9cd20",
   "metadata": {
    "execution": {
     "iopub.execute_input": "2024-04-01T18:02:23.631534Z",
     "iopub.status.busy": "2024-04-01T18:02:23.630399Z",
     "iopub.status.idle": "2024-04-01T18:02:24.004475Z",
     "shell.execute_reply": "2024-04-01T18:02:24.005140Z",
     "shell.execute_reply.started": "2024-04-01T08:30:12.264624Z"
    },
    "papermill": {
     "duration": 0.506594,
     "end_time": "2024-04-01T18:02:24.005375",
     "exception": false,
     "start_time": "2024-04-01T18:02:23.498781",
     "status": "completed"
    },
    "tags": []
   },
   "outputs": [],
   "source": [
    "null_values_percentage = (df.isnull().sum()/df.isnull().count()*100).sort_values(ascending=False)\n",
    "#count(returns Non-NAN value)"
   ]
  },
  {
   "cell_type": "code",
   "execution_count": 29,
   "id": "b2d240e0",
   "metadata": {
    "execution": {
     "iopub.execute_input": "2024-04-01T18:02:24.246832Z",
     "iopub.status.busy": "2024-04-01T18:02:24.245985Z",
     "iopub.status.idle": "2024-04-01T18:02:24.253409Z",
     "shell.execute_reply": "2024-04-01T18:02:24.254043Z",
     "shell.execute_reply.started": "2024-04-01T08:30:13.012757Z"
    },
    "papermill": {
     "duration": 0.129078,
     "end_time": "2024-04-01T18:02:24.254297",
     "exception": false,
     "start_time": "2024-04-01T18:02:24.125219",
     "status": "completed"
    },
    "tags": []
   },
   "outputs": [],
   "source": [
    "missing_data_with_percentage = pd.concat([nullvalues, null_values_percentage], axis=1, keys=['Total', 'Percent'])\n",
    "# Concatenating total null values and their percentage of missing values for further imputation or column deletion"
   ]
  },
  {
   "cell_type": "code",
   "execution_count": 30,
   "id": "18ffbad1",
   "metadata": {
    "execution": {
     "iopub.execute_input": "2024-04-01T18:02:24.487092Z",
     "iopub.status.busy": "2024-04-01T18:02:24.486277Z",
     "iopub.status.idle": "2024-04-01T18:02:24.499407Z",
     "shell.execute_reply": "2024-04-01T18:02:24.500101Z",
     "shell.execute_reply.started": "2024-04-01T08:30:13.023107Z"
    },
    "papermill": {
     "duration": 0.132159,
     "end_time": "2024-04-01T18:02:24.500330",
     "exception": false,
     "start_time": "2024-04-01T18:02:24.368171",
     "status": "completed"
    },
    "tags": []
   },
   "outputs": [
    {
     "data": {
      "text/html": [
       "<div>\n",
       "<style scoped>\n",
       "    .dataframe tbody tr th:only-of-type {\n",
       "        vertical-align: middle;\n",
       "    }\n",
       "\n",
       "    .dataframe tbody tr th {\n",
       "        vertical-align: top;\n",
       "    }\n",
       "\n",
       "    .dataframe thead th {\n",
       "        text-align: right;\n",
       "    }\n",
       "</style>\n",
       "<table border=\"1\" class=\"dataframe\">\n",
       "  <thead>\n",
       "    <tr style=\"text-align: right;\">\n",
       "      <th></th>\n",
       "      <th>Total</th>\n",
       "      <th>Percent</th>\n",
       "    </tr>\n",
       "  </thead>\n",
       "  <tbody>\n",
       "    <tr>\n",
       "      <th>pm2_5</th>\n",
       "      <td>426428</td>\n",
       "      <td>97.862497</td>\n",
       "    </tr>\n",
       "    <tr>\n",
       "      <th>spm</th>\n",
       "      <td>237387</td>\n",
       "      <td>54.478797</td>\n",
       "    </tr>\n",
       "    <tr>\n",
       "      <th>agency</th>\n",
       "      <td>149481</td>\n",
       "      <td>34.304933</td>\n",
       "    </tr>\n",
       "    <tr>\n",
       "      <th>stn_code</th>\n",
       "      <td>144077</td>\n",
       "      <td>33.064749</td>\n",
       "    </tr>\n",
       "    <tr>\n",
       "      <th>rspm</th>\n",
       "      <td>40222</td>\n",
       "      <td>9.230692</td>\n",
       "    </tr>\n",
       "    <tr>\n",
       "      <th>so2</th>\n",
       "      <td>34646</td>\n",
       "      <td>7.951035</td>\n",
       "    </tr>\n",
       "    <tr>\n",
       "      <th>location_monitoring_station</th>\n",
       "      <td>27491</td>\n",
       "      <td>6.309009</td>\n",
       "    </tr>\n",
       "    <tr>\n",
       "      <th>no2</th>\n",
       "      <td>16233</td>\n",
       "      <td>3.725370</td>\n",
       "    </tr>\n",
       "    <tr>\n",
       "      <th>type</th>\n",
       "      <td>5393</td>\n",
       "      <td>1.237659</td>\n",
       "    </tr>\n",
       "    <tr>\n",
       "      <th>date</th>\n",
       "      <td>7</td>\n",
       "      <td>0.001606</td>\n",
       "    </tr>\n",
       "    <tr>\n",
       "      <th>sampling_date</th>\n",
       "      <td>3</td>\n",
       "      <td>0.000688</td>\n",
       "    </tr>\n",
       "    <tr>\n",
       "      <th>location</th>\n",
       "      <td>3</td>\n",
       "      <td>0.000688</td>\n",
       "    </tr>\n",
       "    <tr>\n",
       "      <th>state</th>\n",
       "      <td>0</td>\n",
       "      <td>0.000000</td>\n",
       "    </tr>\n",
       "  </tbody>\n",
       "</table>\n",
       "</div>"
      ],
      "text/plain": [
       "                              Total    Percent\n",
       "pm2_5                        426428  97.862497\n",
       "spm                          237387  54.478797\n",
       "agency                       149481  34.304933\n",
       "stn_code                     144077  33.064749\n",
       "rspm                          40222   9.230692\n",
       "so2                           34646   7.951035\n",
       "location_monitoring_station   27491   6.309009\n",
       "no2                           16233   3.725370\n",
       "type                           5393   1.237659\n",
       "date                              7   0.001606\n",
       "sampling_date                     3   0.000688\n",
       "location                          3   0.000688\n",
       "state                             0   0.000000"
      ]
     },
     "execution_count": 30,
     "metadata": {},
     "output_type": "execute_result"
    }
   ],
   "source": [
    "missing_data_with_percentage\n",
    "# As you can see below these are the percentages of null values present in the dataset"
   ]
  },
  {
   "cell_type": "code",
   "execution_count": 31,
   "id": "220c955b",
   "metadata": {
    "execution": {
     "iopub.execute_input": "2024-04-01T18:02:24.735322Z",
     "iopub.status.busy": "2024-04-01T18:02:24.734424Z",
     "iopub.status.idle": "2024-04-01T18:02:24.934376Z",
     "shell.execute_reply": "2024-04-01T18:02:24.933755Z",
     "shell.execute_reply.started": "2024-04-01T08:30:13.044536Z"
    },
    "papermill": {
     "duration": 0.320513,
     "end_time": "2024-04-01T18:02:24.934556",
     "exception": false,
     "start_time": "2024-04-01T18:02:24.614043",
     "status": "completed"
    },
    "tags": []
   },
   "outputs": [],
   "source": [
    "df.drop(['agency'],axis=1,inplace=True)\n",
    "df.drop(['stn_code'],axis=1,inplace=True)\n",
    "df.drop(['date'],axis=1,inplace=True)\n",
    "df.drop(['sampling_date'],axis=1,inplace=True)\n",
    "df.drop(['location_monitoring_station'],axis=1,inplace=True)\n",
    "# Dropping unnecessary columns"
   ]
  },
  {
   "cell_type": "code",
   "execution_count": 32,
   "id": "ccb955e1",
   "metadata": {
    "execution": {
     "iopub.execute_input": "2024-04-01T18:02:25.234546Z",
     "iopub.status.busy": "2024-04-01T18:02:25.233600Z",
     "iopub.status.idle": "2024-04-01T18:02:25.247773Z",
     "shell.execute_reply": "2024-04-01T18:02:25.247123Z",
     "shell.execute_reply.started": "2024-04-01T08:30:13.257729Z"
    },
    "papermill": {
     "duration": 0.198677,
     "end_time": "2024-04-01T18:02:25.247976",
     "exception": false,
     "start_time": "2024-04-01T18:02:25.049299",
     "status": "completed"
    },
    "tags": []
   },
   "outputs": [
    {
     "data": {
      "text/plain": [
       "state            0\n",
       "location         3\n",
       "type          5393\n",
       "so2          34646\n",
       "no2          16233\n",
       "rspm         40222\n",
       "spm         237387\n",
       "pm2_5       426428\n",
       "dtype: int64"
      ]
     },
     "execution_count": 32,
     "metadata": {},
     "output_type": "execute_result"
    }
   ],
   "source": [
    "df.isnull().sum()\n",
    "# Now checking the null values"
   ]
  },
  {
   "cell_type": "code",
   "execution_count": 33,
   "id": "540d362c",
   "metadata": {
    "execution": {
     "iopub.execute_input": "2024-04-01T18:02:25.503037Z",
     "iopub.status.busy": "2024-04-01T18:02:25.487503Z",
     "iopub.status.idle": "2024-04-01T18:02:25.506728Z",
     "shell.execute_reply": "2024-04-01T18:02:25.507352Z",
     "shell.execute_reply.started": "2024-04-01T08:30:13.424122Z"
    },
    "papermill": {
     "duration": 0.139498,
     "end_time": "2024-04-01T18:02:25.507573",
     "exception": false,
     "start_time": "2024-04-01T18:02:25.368075",
     "status": "completed"
    },
    "tags": []
   },
   "outputs": [
    {
     "data": {
      "text/html": [
       "<div>\n",
       "<style scoped>\n",
       "    .dataframe tbody tr th:only-of-type {\n",
       "        vertical-align: middle;\n",
       "    }\n",
       "\n",
       "    .dataframe tbody tr th {\n",
       "        vertical-align: top;\n",
       "    }\n",
       "\n",
       "    .dataframe thead th {\n",
       "        text-align: right;\n",
       "    }\n",
       "</style>\n",
       "<table border=\"1\" class=\"dataframe\">\n",
       "  <thead>\n",
       "    <tr style=\"text-align: right;\">\n",
       "      <th></th>\n",
       "      <th>state</th>\n",
       "      <th>location</th>\n",
       "      <th>type</th>\n",
       "      <th>so2</th>\n",
       "      <th>no2</th>\n",
       "      <th>rspm</th>\n",
       "      <th>spm</th>\n",
       "      <th>pm2_5</th>\n",
       "    </tr>\n",
       "  </thead>\n",
       "  <tbody>\n",
       "    <tr>\n",
       "      <th>0</th>\n",
       "      <td>Andhra Pradesh</td>\n",
       "      <td>Hyderabad</td>\n",
       "      <td>Residential, Rural and other Areas</td>\n",
       "      <td>4.8</td>\n",
       "      <td>17.4</td>\n",
       "      <td>NaN</td>\n",
       "      <td>NaN</td>\n",
       "      <td>NaN</td>\n",
       "    </tr>\n",
       "    <tr>\n",
       "      <th>1</th>\n",
       "      <td>Andhra Pradesh</td>\n",
       "      <td>Hyderabad</td>\n",
       "      <td>Industrial Area</td>\n",
       "      <td>3.1</td>\n",
       "      <td>7.0</td>\n",
       "      <td>NaN</td>\n",
       "      <td>NaN</td>\n",
       "      <td>NaN</td>\n",
       "    </tr>\n",
       "    <tr>\n",
       "      <th>2</th>\n",
       "      <td>Andhra Pradesh</td>\n",
       "      <td>Hyderabad</td>\n",
       "      <td>Residential, Rural and other Areas</td>\n",
       "      <td>6.2</td>\n",
       "      <td>28.5</td>\n",
       "      <td>NaN</td>\n",
       "      <td>NaN</td>\n",
       "      <td>NaN</td>\n",
       "    </tr>\n",
       "    <tr>\n",
       "      <th>3</th>\n",
       "      <td>Andhra Pradesh</td>\n",
       "      <td>Hyderabad</td>\n",
       "      <td>Residential, Rural and other Areas</td>\n",
       "      <td>6.3</td>\n",
       "      <td>14.7</td>\n",
       "      <td>NaN</td>\n",
       "      <td>NaN</td>\n",
       "      <td>NaN</td>\n",
       "    </tr>\n",
       "    <tr>\n",
       "      <th>4</th>\n",
       "      <td>Andhra Pradesh</td>\n",
       "      <td>Hyderabad</td>\n",
       "      <td>Industrial Area</td>\n",
       "      <td>4.7</td>\n",
       "      <td>7.5</td>\n",
       "      <td>NaN</td>\n",
       "      <td>NaN</td>\n",
       "      <td>NaN</td>\n",
       "    </tr>\n",
       "    <tr>\n",
       "      <th>...</th>\n",
       "      <td>...</td>\n",
       "      <td>...</td>\n",
       "      <td>...</td>\n",
       "      <td>...</td>\n",
       "      <td>...</td>\n",
       "      <td>...</td>\n",
       "      <td>...</td>\n",
       "      <td>...</td>\n",
       "    </tr>\n",
       "    <tr>\n",
       "      <th>435737</th>\n",
       "      <td>West Bengal</td>\n",
       "      <td>ULUBERIA</td>\n",
       "      <td>RIRUO</td>\n",
       "      <td>22.0</td>\n",
       "      <td>50.0</td>\n",
       "      <td>143.0</td>\n",
       "      <td>NaN</td>\n",
       "      <td>NaN</td>\n",
       "    </tr>\n",
       "    <tr>\n",
       "      <th>435738</th>\n",
       "      <td>West Bengal</td>\n",
       "      <td>ULUBERIA</td>\n",
       "      <td>RIRUO</td>\n",
       "      <td>20.0</td>\n",
       "      <td>46.0</td>\n",
       "      <td>171.0</td>\n",
       "      <td>NaN</td>\n",
       "      <td>NaN</td>\n",
       "    </tr>\n",
       "    <tr>\n",
       "      <th>435739</th>\n",
       "      <td>andaman-and-nicobar-islands</td>\n",
       "      <td>NaN</td>\n",
       "      <td>NaN</td>\n",
       "      <td>NaN</td>\n",
       "      <td>NaN</td>\n",
       "      <td>NaN</td>\n",
       "      <td>NaN</td>\n",
       "      <td>NaN</td>\n",
       "    </tr>\n",
       "    <tr>\n",
       "      <th>435740</th>\n",
       "      <td>Lakshadweep</td>\n",
       "      <td>NaN</td>\n",
       "      <td>NaN</td>\n",
       "      <td>NaN</td>\n",
       "      <td>NaN</td>\n",
       "      <td>NaN</td>\n",
       "      <td>NaN</td>\n",
       "      <td>NaN</td>\n",
       "    </tr>\n",
       "    <tr>\n",
       "      <th>435741</th>\n",
       "      <td>Tripura</td>\n",
       "      <td>NaN</td>\n",
       "      <td>NaN</td>\n",
       "      <td>NaN</td>\n",
       "      <td>NaN</td>\n",
       "      <td>NaN</td>\n",
       "      <td>NaN</td>\n",
       "      <td>NaN</td>\n",
       "    </tr>\n",
       "  </tbody>\n",
       "</table>\n",
       "<p>435742 rows × 8 columns</p>\n",
       "</div>"
      ],
      "text/plain": [
       "                              state   location  \\\n",
       "0                    Andhra Pradesh  Hyderabad   \n",
       "1                    Andhra Pradesh  Hyderabad   \n",
       "2                    Andhra Pradesh  Hyderabad   \n",
       "3                    Andhra Pradesh  Hyderabad   \n",
       "4                    Andhra Pradesh  Hyderabad   \n",
       "...                             ...        ...   \n",
       "435737                  West Bengal   ULUBERIA   \n",
       "435738                  West Bengal   ULUBERIA   \n",
       "435739  andaman-and-nicobar-islands        NaN   \n",
       "435740                  Lakshadweep        NaN   \n",
       "435741                      Tripura        NaN   \n",
       "\n",
       "                                      type   so2   no2   rspm  spm  pm2_5  \n",
       "0       Residential, Rural and other Areas   4.8  17.4    NaN  NaN    NaN  \n",
       "1                          Industrial Area   3.1   7.0    NaN  NaN    NaN  \n",
       "2       Residential, Rural and other Areas   6.2  28.5    NaN  NaN    NaN  \n",
       "3       Residential, Rural and other Areas   6.3  14.7    NaN  NaN    NaN  \n",
       "4                          Industrial Area   4.7   7.5    NaN  NaN    NaN  \n",
       "...                                    ...   ...   ...    ...  ...    ...  \n",
       "435737                               RIRUO  22.0  50.0  143.0  NaN    NaN  \n",
       "435738                               RIRUO  20.0  46.0  171.0  NaN    NaN  \n",
       "435739                                 NaN   NaN   NaN    NaN  NaN    NaN  \n",
       "435740                                 NaN   NaN   NaN    NaN  NaN    NaN  \n",
       "435741                                 NaN   NaN   NaN    NaN  NaN    NaN  \n",
       "\n",
       "[435742 rows x 8 columns]"
      ]
     },
     "execution_count": 33,
     "metadata": {},
     "output_type": "execute_result"
    }
   ],
   "source": [
    "df"
   ]
  },
  {
   "cell_type": "code",
   "execution_count": 34,
   "id": "9125f6d9",
   "metadata": {
    "execution": {
     "iopub.execute_input": "2024-04-01T18:02:25.743218Z",
     "iopub.status.busy": "2024-04-01T18:02:25.742392Z",
     "iopub.status.idle": "2024-04-01T18:02:25.863074Z",
     "shell.execute_reply": "2024-04-01T18:02:25.862406Z",
     "shell.execute_reply.started": "2024-04-01T08:30:13.451803Z"
    },
    "papermill": {
     "duration": 0.240259,
     "end_time": "2024-04-01T18:02:25.863286",
     "exception": false,
     "start_time": "2024-04-01T18:02:25.623027",
     "status": "completed"
    },
    "tags": []
   },
   "outputs": [],
   "source": [
    "df['location']=df['location'].fillna(df['location'].mode()[0])\n",
    "df['type']=df['type'].fillna(df['type'].mode()[0])\n",
    "# Null value Imputation for categorical data"
   ]
  },
  {
   "cell_type": "code",
   "execution_count": 35,
   "id": "e689b41f",
   "metadata": {
    "execution": {
     "iopub.execute_input": "2024-04-01T18:02:26.163484Z",
     "iopub.status.busy": "2024-04-01T18:02:26.162652Z",
     "iopub.status.idle": "2024-04-01T18:02:26.172493Z",
     "shell.execute_reply": "2024-04-01T18:02:26.171814Z",
     "shell.execute_reply.started": "2024-04-01T08:30:13.706162Z"
    },
    "papermill": {
     "duration": 0.194462,
     "end_time": "2024-04-01T18:02:26.172678",
     "exception": false,
     "start_time": "2024-04-01T18:02:25.978216",
     "status": "completed"
    },
    "tags": []
   },
   "outputs": [],
   "source": [
    "df.fillna(0, inplace=True)\n",
    "# null values are replaced with zeros for the numerical data"
   ]
  },
  {
   "cell_type": "code",
   "execution_count": 36,
   "id": "de6b9b7f",
   "metadata": {
    "execution": {
     "iopub.execute_input": "2024-04-01T18:02:26.416543Z",
     "iopub.status.busy": "2024-04-01T18:02:26.415814Z",
     "iopub.status.idle": "2024-04-01T18:02:26.492879Z",
     "shell.execute_reply": "2024-04-01T18:02:26.493496Z",
     "shell.execute_reply.started": "2024-04-01T08:30:13.866256Z"
    },
    "papermill": {
     "duration": 0.203461,
     "end_time": "2024-04-01T18:02:26.493729",
     "exception": false,
     "start_time": "2024-04-01T18:02:26.290268",
     "status": "completed"
    },
    "tags": []
   },
   "outputs": [
    {
     "data": {
      "text/plain": [
       "state       0\n",
       "location    0\n",
       "type        0\n",
       "so2         0\n",
       "no2         0\n",
       "rspm        0\n",
       "spm         0\n",
       "pm2_5       0\n",
       "dtype: int64"
      ]
     },
     "execution_count": 36,
     "metadata": {},
     "output_type": "execute_result"
    }
   ],
   "source": [
    "df.isnull().sum()\n",
    "# Now we have successfully imputed null values which were present in the dataset"
   ]
  },
  {
   "cell_type": "code",
   "execution_count": 37,
   "id": "4da88a83",
   "metadata": {
    "execution": {
     "iopub.execute_input": "2024-04-01T18:02:26.730978Z",
     "iopub.status.busy": "2024-04-01T18:02:26.730162Z",
     "iopub.status.idle": "2024-04-01T18:02:26.751511Z",
     "shell.execute_reply": "2024-04-01T18:02:26.752207Z",
     "shell.execute_reply.started": "2024-04-01T08:30:14.032443Z"
    },
    "papermill": {
     "duration": 0.142397,
     "end_time": "2024-04-01T18:02:26.752425",
     "exception": false,
     "start_time": "2024-04-01T18:02:26.610028",
     "status": "completed"
    },
    "tags": []
   },
   "outputs": [
    {
     "data": {
      "text/html": [
       "<div>\n",
       "<style scoped>\n",
       "    .dataframe tbody tr th:only-of-type {\n",
       "        vertical-align: middle;\n",
       "    }\n",
       "\n",
       "    .dataframe tbody tr th {\n",
       "        vertical-align: top;\n",
       "    }\n",
       "\n",
       "    .dataframe thead th {\n",
       "        text-align: right;\n",
       "    }\n",
       "</style>\n",
       "<table border=\"1\" class=\"dataframe\">\n",
       "  <thead>\n",
       "    <tr style=\"text-align: right;\">\n",
       "      <th></th>\n",
       "      <th>state</th>\n",
       "      <th>location</th>\n",
       "      <th>type</th>\n",
       "      <th>so2</th>\n",
       "      <th>no2</th>\n",
       "      <th>rspm</th>\n",
       "      <th>spm</th>\n",
       "      <th>pm2_5</th>\n",
       "    </tr>\n",
       "  </thead>\n",
       "  <tbody>\n",
       "    <tr>\n",
       "      <th>0</th>\n",
       "      <td>Andhra Pradesh</td>\n",
       "      <td>Hyderabad</td>\n",
       "      <td>Residential, Rural and other Areas</td>\n",
       "      <td>4.8</td>\n",
       "      <td>17.4</td>\n",
       "      <td>0.0</td>\n",
       "      <td>0.0</td>\n",
       "      <td>0.0</td>\n",
       "    </tr>\n",
       "    <tr>\n",
       "      <th>1</th>\n",
       "      <td>Andhra Pradesh</td>\n",
       "      <td>Hyderabad</td>\n",
       "      <td>Industrial Area</td>\n",
       "      <td>3.1</td>\n",
       "      <td>7.0</td>\n",
       "      <td>0.0</td>\n",
       "      <td>0.0</td>\n",
       "      <td>0.0</td>\n",
       "    </tr>\n",
       "    <tr>\n",
       "      <th>2</th>\n",
       "      <td>Andhra Pradesh</td>\n",
       "      <td>Hyderabad</td>\n",
       "      <td>Residential, Rural and other Areas</td>\n",
       "      <td>6.2</td>\n",
       "      <td>28.5</td>\n",
       "      <td>0.0</td>\n",
       "      <td>0.0</td>\n",
       "      <td>0.0</td>\n",
       "    </tr>\n",
       "    <tr>\n",
       "      <th>3</th>\n",
       "      <td>Andhra Pradesh</td>\n",
       "      <td>Hyderabad</td>\n",
       "      <td>Residential, Rural and other Areas</td>\n",
       "      <td>6.3</td>\n",
       "      <td>14.7</td>\n",
       "      <td>0.0</td>\n",
       "      <td>0.0</td>\n",
       "      <td>0.0</td>\n",
       "    </tr>\n",
       "    <tr>\n",
       "      <th>4</th>\n",
       "      <td>Andhra Pradesh</td>\n",
       "      <td>Hyderabad</td>\n",
       "      <td>Industrial Area</td>\n",
       "      <td>4.7</td>\n",
       "      <td>7.5</td>\n",
       "      <td>0.0</td>\n",
       "      <td>0.0</td>\n",
       "      <td>0.0</td>\n",
       "    </tr>\n",
       "    <tr>\n",
       "      <th>...</th>\n",
       "      <td>...</td>\n",
       "      <td>...</td>\n",
       "      <td>...</td>\n",
       "      <td>...</td>\n",
       "      <td>...</td>\n",
       "      <td>...</td>\n",
       "      <td>...</td>\n",
       "      <td>...</td>\n",
       "    </tr>\n",
       "    <tr>\n",
       "      <th>435737</th>\n",
       "      <td>West Bengal</td>\n",
       "      <td>ULUBERIA</td>\n",
       "      <td>RIRUO</td>\n",
       "      <td>22.0</td>\n",
       "      <td>50.0</td>\n",
       "      <td>143.0</td>\n",
       "      <td>0.0</td>\n",
       "      <td>0.0</td>\n",
       "    </tr>\n",
       "    <tr>\n",
       "      <th>435738</th>\n",
       "      <td>West Bengal</td>\n",
       "      <td>ULUBERIA</td>\n",
       "      <td>RIRUO</td>\n",
       "      <td>20.0</td>\n",
       "      <td>46.0</td>\n",
       "      <td>171.0</td>\n",
       "      <td>0.0</td>\n",
       "      <td>0.0</td>\n",
       "    </tr>\n",
       "    <tr>\n",
       "      <th>435739</th>\n",
       "      <td>andaman-and-nicobar-islands</td>\n",
       "      <td>Guwahati</td>\n",
       "      <td>Residential, Rural and other Areas</td>\n",
       "      <td>0.0</td>\n",
       "      <td>0.0</td>\n",
       "      <td>0.0</td>\n",
       "      <td>0.0</td>\n",
       "      <td>0.0</td>\n",
       "    </tr>\n",
       "    <tr>\n",
       "      <th>435740</th>\n",
       "      <td>Lakshadweep</td>\n",
       "      <td>Guwahati</td>\n",
       "      <td>Residential, Rural and other Areas</td>\n",
       "      <td>0.0</td>\n",
       "      <td>0.0</td>\n",
       "      <td>0.0</td>\n",
       "      <td>0.0</td>\n",
       "      <td>0.0</td>\n",
       "    </tr>\n",
       "    <tr>\n",
       "      <th>435741</th>\n",
       "      <td>Tripura</td>\n",
       "      <td>Guwahati</td>\n",
       "      <td>Residential, Rural and other Areas</td>\n",
       "      <td>0.0</td>\n",
       "      <td>0.0</td>\n",
       "      <td>0.0</td>\n",
       "      <td>0.0</td>\n",
       "      <td>0.0</td>\n",
       "    </tr>\n",
       "  </tbody>\n",
       "</table>\n",
       "<p>435742 rows × 8 columns</p>\n",
       "</div>"
      ],
      "text/plain": [
       "                              state   location  \\\n",
       "0                    Andhra Pradesh  Hyderabad   \n",
       "1                    Andhra Pradesh  Hyderabad   \n",
       "2                    Andhra Pradesh  Hyderabad   \n",
       "3                    Andhra Pradesh  Hyderabad   \n",
       "4                    Andhra Pradesh  Hyderabad   \n",
       "...                             ...        ...   \n",
       "435737                  West Bengal   ULUBERIA   \n",
       "435738                  West Bengal   ULUBERIA   \n",
       "435739  andaman-and-nicobar-islands   Guwahati   \n",
       "435740                  Lakshadweep   Guwahati   \n",
       "435741                      Tripura   Guwahati   \n",
       "\n",
       "                                      type   so2   no2   rspm  spm  pm2_5  \n",
       "0       Residential, Rural and other Areas   4.8  17.4    0.0  0.0    0.0  \n",
       "1                          Industrial Area   3.1   7.0    0.0  0.0    0.0  \n",
       "2       Residential, Rural and other Areas   6.2  28.5    0.0  0.0    0.0  \n",
       "3       Residential, Rural and other Areas   6.3  14.7    0.0  0.0    0.0  \n",
       "4                          Industrial Area   4.7   7.5    0.0  0.0    0.0  \n",
       "...                                    ...   ...   ...    ...  ...    ...  \n",
       "435737                               RIRUO  22.0  50.0  143.0  0.0    0.0  \n",
       "435738                               RIRUO  20.0  46.0  171.0  0.0    0.0  \n",
       "435739  Residential, Rural and other Areas   0.0   0.0    0.0  0.0    0.0  \n",
       "435740  Residential, Rural and other Areas   0.0   0.0    0.0  0.0    0.0  \n",
       "435741  Residential, Rural and other Areas   0.0   0.0    0.0  0.0    0.0  \n",
       "\n",
       "[435742 rows x 8 columns]"
      ]
     },
     "execution_count": 37,
     "metadata": {},
     "output_type": "execute_result"
    }
   ],
   "source": [
    "df\n",
    "# The following features are important for our machine learning models."
   ]
  },
  {
   "cell_type": "markdown",
   "id": "3e570056",
   "metadata": {
    "papermill": {
     "duration": 0.118916,
     "end_time": "2024-04-01T18:02:26.992671",
     "exception": false,
     "start_time": "2024-04-01T18:02:26.873755",
     "status": "completed"
    },
    "tags": []
   },
   "source": [
    "# CALCULATE AIR QUALITY INDEX FOR SO2 BASED ON FORMULA\n",
    "The air quality index is a piecewise linear function of the pollutant concentration. At the boundary between AQI categories, there is a discontinuous jump of one AQI unit. To convert from concentration to AQI this equation is used"
   ]
  },
  {
   "cell_type": "markdown",
   "id": "1ace6165",
   "metadata": {
    "papermill": {
     "duration": 0.116819,
     "end_time": "2024-04-01T18:02:27.239277",
     "exception": false,
     "start_time": "2024-04-01T18:02:27.122458",
     "status": "completed"
    },
    "tags": []
   },
   "source": [
    "### Function to calculate so2 individual pollutant index(si)"
   ]
  },
  {
   "cell_type": "code",
   "execution_count": 38,
   "id": "715ea33f",
   "metadata": {
    "execution": {
     "iopub.execute_input": "2024-04-01T18:02:27.490766Z",
     "iopub.status.busy": "2024-04-01T18:02:27.489904Z",
     "iopub.status.idle": "2024-04-01T18:02:27.720247Z",
     "shell.execute_reply": "2024-04-01T18:02:27.719516Z",
     "shell.execute_reply.started": "2024-04-01T08:30:14.060474Z"
    },
    "papermill": {
     "duration": 0.35872,
     "end_time": "2024-04-01T18:02:27.720432",
     "exception": false,
     "start_time": "2024-04-01T18:02:27.361712",
     "status": "completed"
    },
    "tags": []
   },
   "outputs": [
    {
     "data": {
      "text/html": [
       "<div>\n",
       "<style scoped>\n",
       "    .dataframe tbody tr th:only-of-type {\n",
       "        vertical-align: middle;\n",
       "    }\n",
       "\n",
       "    .dataframe tbody tr th {\n",
       "        vertical-align: top;\n",
       "    }\n",
       "\n",
       "    .dataframe thead th {\n",
       "        text-align: right;\n",
       "    }\n",
       "</style>\n",
       "<table border=\"1\" class=\"dataframe\">\n",
       "  <thead>\n",
       "    <tr style=\"text-align: right;\">\n",
       "      <th></th>\n",
       "      <th>so2</th>\n",
       "      <th>SOi</th>\n",
       "    </tr>\n",
       "  </thead>\n",
       "  <tbody>\n",
       "    <tr>\n",
       "      <th>0</th>\n",
       "      <td>4.8</td>\n",
       "      <td>6.000</td>\n",
       "    </tr>\n",
       "    <tr>\n",
       "      <th>1</th>\n",
       "      <td>3.1</td>\n",
       "      <td>3.875</td>\n",
       "    </tr>\n",
       "    <tr>\n",
       "      <th>2</th>\n",
       "      <td>6.2</td>\n",
       "      <td>7.750</td>\n",
       "    </tr>\n",
       "    <tr>\n",
       "      <th>3</th>\n",
       "      <td>6.3</td>\n",
       "      <td>7.875</td>\n",
       "    </tr>\n",
       "    <tr>\n",
       "      <th>4</th>\n",
       "      <td>4.7</td>\n",
       "      <td>5.875</td>\n",
       "    </tr>\n",
       "  </tbody>\n",
       "</table>\n",
       "</div>"
      ],
      "text/plain": [
       "   so2    SOi\n",
       "0  4.8  6.000\n",
       "1  3.1  3.875\n",
       "2  6.2  7.750\n",
       "3  6.3  7.875\n",
       "4  4.7  5.875"
      ]
     },
     "execution_count": 38,
     "metadata": {},
     "output_type": "execute_result"
    }
   ],
   "source": [
    "def cal_SOi(so2):\n",
    "    si=0\n",
    "    if (so2<=40):\n",
    "     si= so2*(50/40)\n",
    "    elif (so2>40 and so2<=80):\n",
    "     si= 50+(so2-40)*(50/40)\n",
    "    elif (so2>80 and so2<=380):\n",
    "     si= 100+(so2-80)*(100/300)\n",
    "    elif (so2>380 and so2<=800):\n",
    "     si= 200+(so2-380)*(100/420)\n",
    "    elif (so2>800 and so2<=1600):\n",
    "     si= 300+(so2-800)*(100/800)\n",
    "    elif (so2>1600):\n",
    "     si= 400+(so2-1600)*(100/800)\n",
    "    return si\n",
    "df['SOi']=df['so2'].apply(cal_SOi)\n",
    "data= df[['so2','SOi']]\n",
    "data.head()\n",
    "# calculating the individual pollutant index for so2(sulphur dioxide)"
   ]
  },
  {
   "cell_type": "markdown",
   "id": "e0ec59d3",
   "metadata": {
    "papermill": {
     "duration": 0.117965,
     "end_time": "2024-04-01T18:02:27.962612",
     "exception": false,
     "start_time": "2024-04-01T18:02:27.844647",
     "status": "completed"
    },
    "tags": []
   },
   "source": [
    "### Function to calculate no2 individual pollutant index(ni)"
   ]
  },
  {
   "cell_type": "code",
   "execution_count": 39,
   "id": "8fbbaad3",
   "metadata": {
    "execution": {
     "iopub.execute_input": "2024-04-01T18:02:28.211126Z",
     "iopub.status.busy": "2024-04-01T18:02:28.210247Z",
     "iopub.status.idle": "2024-04-01T18:02:28.441102Z",
     "shell.execute_reply": "2024-04-01T18:02:28.441598Z",
     "shell.execute_reply.started": "2024-04-01T08:30:14.424130Z"
    },
    "papermill": {
     "duration": 0.358163,
     "end_time": "2024-04-01T18:02:28.441843",
     "exception": false,
     "start_time": "2024-04-01T18:02:28.083680",
     "status": "completed"
    },
    "tags": []
   },
   "outputs": [
    {
     "data": {
      "text/html": [
       "<div>\n",
       "<style scoped>\n",
       "    .dataframe tbody tr th:only-of-type {\n",
       "        vertical-align: middle;\n",
       "    }\n",
       "\n",
       "    .dataframe tbody tr th {\n",
       "        vertical-align: top;\n",
       "    }\n",
       "\n",
       "    .dataframe thead th {\n",
       "        text-align: right;\n",
       "    }\n",
       "</style>\n",
       "<table border=\"1\" class=\"dataframe\">\n",
       "  <thead>\n",
       "    <tr style=\"text-align: right;\">\n",
       "      <th></th>\n",
       "      <th>no2</th>\n",
       "      <th>Noi</th>\n",
       "    </tr>\n",
       "  </thead>\n",
       "  <tbody>\n",
       "    <tr>\n",
       "      <th>0</th>\n",
       "      <td>17.4</td>\n",
       "      <td>21.750</td>\n",
       "    </tr>\n",
       "    <tr>\n",
       "      <th>1</th>\n",
       "      <td>7.0</td>\n",
       "      <td>8.750</td>\n",
       "    </tr>\n",
       "    <tr>\n",
       "      <th>2</th>\n",
       "      <td>28.5</td>\n",
       "      <td>35.625</td>\n",
       "    </tr>\n",
       "    <tr>\n",
       "      <th>3</th>\n",
       "      <td>14.7</td>\n",
       "      <td>18.375</td>\n",
       "    </tr>\n",
       "    <tr>\n",
       "      <th>4</th>\n",
       "      <td>7.5</td>\n",
       "      <td>9.375</td>\n",
       "    </tr>\n",
       "  </tbody>\n",
       "</table>\n",
       "</div>"
      ],
      "text/plain": [
       "    no2     Noi\n",
       "0  17.4  21.750\n",
       "1   7.0   8.750\n",
       "2  28.5  35.625\n",
       "3  14.7  18.375\n",
       "4   7.5   9.375"
      ]
     },
     "execution_count": 39,
     "metadata": {},
     "output_type": "execute_result"
    }
   ],
   "source": [
    "def cal_Noi(no2):\n",
    "    ni=0\n",
    "    if(no2<=40):\n",
    "     ni= no2*50/40\n",
    "    elif(no2>40 and no2<=80):\n",
    "     ni= 50+(no2-40)*(50/40)\n",
    "    elif(no2>80 and no2<=180):\n",
    "     ni= 100+(no2-80)*(100/100)\n",
    "    elif(no2>180 and no2<=280):\n",
    "     ni= 200+(no2-180)*(100/100)\n",
    "    elif(no2>280 and no2<=400):\n",
    "     ni= 300+(no2-280)*(100/120)\n",
    "    else:\n",
    "     ni= 400+(no2-400)*(100/120)\n",
    "    return ni\n",
    "df['Noi']=df['no2'].apply(cal_Noi)\n",
    "data= df[['no2','Noi']]\n",
    "data.head()\n",
    "# calculating the individual pollutant index for no2(nitrogen dioxide)"
   ]
  },
  {
   "cell_type": "markdown",
   "id": "4fdea920",
   "metadata": {
    "papermill": {
     "duration": 0.121647,
     "end_time": "2024-04-01T18:02:28.683157",
     "exception": false,
     "start_time": "2024-04-01T18:02:28.561510",
     "status": "completed"
    },
    "tags": []
   },
   "source": [
    "### Function to calculate rspm individual pollutant index(rpi)"
   ]
  },
  {
   "cell_type": "code",
   "execution_count": 40,
   "id": "840e8f11",
   "metadata": {
    "execution": {
     "iopub.execute_input": "2024-04-01T18:02:28.928358Z",
     "iopub.status.busy": "2024-04-01T18:02:28.927526Z",
     "iopub.status.idle": "2024-04-01T18:02:29.148192Z",
     "shell.execute_reply": "2024-04-01T18:02:29.147546Z",
     "shell.execute_reply.started": "2024-04-01T08:30:14.829642Z"
    },
    "papermill": {
     "duration": 0.343807,
     "end_time": "2024-04-01T18:02:29.148378",
     "exception": false,
     "start_time": "2024-04-01T18:02:28.804571",
     "status": "completed"
    },
    "tags": []
   },
   "outputs": [
    {
     "data": {
      "text/html": [
       "<div>\n",
       "<style scoped>\n",
       "    .dataframe tbody tr th:only-of-type {\n",
       "        vertical-align: middle;\n",
       "    }\n",
       "\n",
       "    .dataframe tbody tr th {\n",
       "        vertical-align: top;\n",
       "    }\n",
       "\n",
       "    .dataframe thead th {\n",
       "        text-align: right;\n",
       "    }\n",
       "</style>\n",
       "<table border=\"1\" class=\"dataframe\">\n",
       "  <thead>\n",
       "    <tr style=\"text-align: right;\">\n",
       "      <th></th>\n",
       "      <th>rspm</th>\n",
       "      <th>Rpi</th>\n",
       "    </tr>\n",
       "  </thead>\n",
       "  <tbody>\n",
       "    <tr>\n",
       "      <th>0</th>\n",
       "      <td>0.0</td>\n",
       "      <td>0.0</td>\n",
       "    </tr>\n",
       "    <tr>\n",
       "      <th>1</th>\n",
       "      <td>0.0</td>\n",
       "      <td>0.0</td>\n",
       "    </tr>\n",
       "    <tr>\n",
       "      <th>2</th>\n",
       "      <td>0.0</td>\n",
       "      <td>0.0</td>\n",
       "    </tr>\n",
       "    <tr>\n",
       "      <th>3</th>\n",
       "      <td>0.0</td>\n",
       "      <td>0.0</td>\n",
       "    </tr>\n",
       "    <tr>\n",
       "      <th>4</th>\n",
       "      <td>0.0</td>\n",
       "      <td>0.0</td>\n",
       "    </tr>\n",
       "  </tbody>\n",
       "</table>\n",
       "</div>"
      ],
      "text/plain": [
       "   rspm  Rpi\n",
       "0   0.0  0.0\n",
       "1   0.0  0.0\n",
       "2   0.0  0.0\n",
       "3   0.0  0.0\n",
       "4   0.0  0.0"
      ]
     },
     "execution_count": 40,
     "metadata": {},
     "output_type": "execute_result"
    }
   ],
   "source": [
    "def cal_RSPMI(rspm):\n",
    "    rpi=0\n",
    "    if(rpi<=30):\n",
    "     rpi=rpi*50/30\n",
    "    elif(rpi>30 and rpi<=60):\n",
    "     rpi=50+(rpi-30)*50/30\n",
    "    elif(rpi>60 and rpi<=90):\n",
    "     rpi=100+(rpi-60)*100/30\n",
    "    elif(rpi>90 and rpi<=120):\n",
    "     rpi=200+(rpi-90)*100/30\n",
    "    elif(rpi>120 and rpi<=250):\n",
    "     rpi=300+(rpi-120)*(100/130)\n",
    "    else:\n",
    "     rpi=400+(rpi-250)*(100/130)\n",
    "    return rpi\n",
    "df['Rpi']=df['rspm'].apply(cal_RSPMI)\n",
    "data= df[['rspm','Rpi']]\n",
    "data.head()\n",
    "# calculating the individual pollutant index for rspm(respirable suspended particualte matter concentration)"
   ]
  },
  {
   "cell_type": "markdown",
   "id": "48122aa8",
   "metadata": {
    "papermill": {
     "duration": 0.120124,
     "end_time": "2024-04-01T18:02:29.386274",
     "exception": false,
     "start_time": "2024-04-01T18:02:29.266150",
     "status": "completed"
    },
    "tags": []
   },
   "source": [
    "### Function to calculate spm individual pollutant index(spi)"
   ]
  },
  {
   "cell_type": "code",
   "execution_count": 41,
   "id": "98b4bcad",
   "metadata": {
    "execution": {
     "iopub.execute_input": "2024-04-01T18:02:29.627301Z",
     "iopub.status.busy": "2024-04-01T18:02:29.626491Z",
     "iopub.status.idle": "2024-04-01T18:02:29.895100Z",
     "shell.execute_reply": "2024-04-01T18:02:29.894420Z",
     "shell.execute_reply.started": "2024-04-01T08:30:15.210069Z"
    },
    "papermill": {
     "duration": 0.390694,
     "end_time": "2024-04-01T18:02:29.895280",
     "exception": false,
     "start_time": "2024-04-01T18:02:29.504586",
     "status": "completed"
    },
    "tags": []
   },
   "outputs": [
    {
     "data": {
      "text/html": [
       "<div>\n",
       "<style scoped>\n",
       "    .dataframe tbody tr th:only-of-type {\n",
       "        vertical-align: middle;\n",
       "    }\n",
       "\n",
       "    .dataframe tbody tr th {\n",
       "        vertical-align: top;\n",
       "    }\n",
       "\n",
       "    .dataframe thead th {\n",
       "        text-align: right;\n",
       "    }\n",
       "</style>\n",
       "<table border=\"1\" class=\"dataframe\">\n",
       "  <thead>\n",
       "    <tr style=\"text-align: right;\">\n",
       "      <th></th>\n",
       "      <th>spm</th>\n",
       "      <th>SPMi</th>\n",
       "    </tr>\n",
       "  </thead>\n",
       "  <tbody>\n",
       "    <tr>\n",
       "      <th>0</th>\n",
       "      <td>0.0</td>\n",
       "      <td>0.0</td>\n",
       "    </tr>\n",
       "    <tr>\n",
       "      <th>1</th>\n",
       "      <td>0.0</td>\n",
       "      <td>0.0</td>\n",
       "    </tr>\n",
       "    <tr>\n",
       "      <th>2</th>\n",
       "      <td>0.0</td>\n",
       "      <td>0.0</td>\n",
       "    </tr>\n",
       "    <tr>\n",
       "      <th>3</th>\n",
       "      <td>0.0</td>\n",
       "      <td>0.0</td>\n",
       "    </tr>\n",
       "    <tr>\n",
       "      <th>4</th>\n",
       "      <td>0.0</td>\n",
       "      <td>0.0</td>\n",
       "    </tr>\n",
       "  </tbody>\n",
       "</table>\n",
       "</div>"
      ],
      "text/plain": [
       "   spm  SPMi\n",
       "0  0.0   0.0\n",
       "1  0.0   0.0\n",
       "2  0.0   0.0\n",
       "3  0.0   0.0\n",
       "4  0.0   0.0"
      ]
     },
     "execution_count": 41,
     "metadata": {},
     "output_type": "execute_result"
    }
   ],
   "source": [
    "def cal_SPMi(spm):\n",
    "    spi=0\n",
    "    if(spm<=50):\n",
    "     spi=spm*50/50\n",
    "    elif(spm>50 and spm<=100):\n",
    "     spi=50+(spm-50)*(50/50)\n",
    "    elif(spm>100 and spm<=250):\n",
    "     spi= 100+(spm-100)*(100/150)\n",
    "    elif(spm>250 and spm<=350):\n",
    "     spi=200+(spm-250)*(100/100)\n",
    "    elif(spm>350 and spm<=430):\n",
    "     spi=300+(spm-350)*(100/80)\n",
    "    else:\n",
    "     spi=400+(spm-430)*(100/430)\n",
    "    return spi\n",
    "   \n",
    "df['SPMi']=df['spm'].apply(cal_SPMi)\n",
    "data= df[['spm','SPMi']]\n",
    "data.head()\n",
    "# calculating the individual pollutant index for spm(suspended particulate matter)"
   ]
  },
  {
   "cell_type": "markdown",
   "id": "8e8fb98b",
   "metadata": {
    "papermill": {
     "duration": 0.121566,
     "end_time": "2024-04-01T18:02:30.137543",
     "exception": false,
     "start_time": "2024-04-01T18:02:30.015977",
     "status": "completed"
    },
    "tags": []
   },
   "source": [
    "### function to calculate the air quality index (AQI) of every data value"
   ]
  },
  {
   "cell_type": "code",
   "execution_count": 42,
   "id": "2b3feda3",
   "metadata": {
    "execution": {
     "iopub.execute_input": "2024-04-01T18:02:30.425920Z",
     "iopub.status.busy": "2024-04-01T18:02:30.393853Z",
     "iopub.status.idle": "2024-04-01T18:02:41.251507Z",
     "shell.execute_reply": "2024-04-01T18:02:41.250820Z",
     "shell.execute_reply.started": "2024-04-01T08:30:15.656504Z"
    },
    "papermill": {
     "duration": 10.990288,
     "end_time": "2024-04-01T18:02:41.251696",
     "exception": false,
     "start_time": "2024-04-01T18:02:30.261408",
     "status": "completed"
    },
    "tags": []
   },
   "outputs": [
    {
     "data": {
      "text/html": [
       "<div>\n",
       "<style scoped>\n",
       "    .dataframe tbody tr th:only-of-type {\n",
       "        vertical-align: middle;\n",
       "    }\n",
       "\n",
       "    .dataframe tbody tr th {\n",
       "        vertical-align: top;\n",
       "    }\n",
       "\n",
       "    .dataframe thead th {\n",
       "        text-align: right;\n",
       "    }\n",
       "</style>\n",
       "<table border=\"1\" class=\"dataframe\">\n",
       "  <thead>\n",
       "    <tr style=\"text-align: right;\">\n",
       "      <th></th>\n",
       "      <th>state</th>\n",
       "      <th>SOi</th>\n",
       "      <th>Noi</th>\n",
       "      <th>Rpi</th>\n",
       "      <th>SPMi</th>\n",
       "      <th>AQI</th>\n",
       "    </tr>\n",
       "  </thead>\n",
       "  <tbody>\n",
       "    <tr>\n",
       "      <th>0</th>\n",
       "      <td>Andhra Pradesh</td>\n",
       "      <td>6.000</td>\n",
       "      <td>21.750</td>\n",
       "      <td>0.0</td>\n",
       "      <td>0.0</td>\n",
       "      <td>21.750</td>\n",
       "    </tr>\n",
       "    <tr>\n",
       "      <th>1</th>\n",
       "      <td>Andhra Pradesh</td>\n",
       "      <td>3.875</td>\n",
       "      <td>8.750</td>\n",
       "      <td>0.0</td>\n",
       "      <td>0.0</td>\n",
       "      <td>8.750</td>\n",
       "    </tr>\n",
       "    <tr>\n",
       "      <th>2</th>\n",
       "      <td>Andhra Pradesh</td>\n",
       "      <td>7.750</td>\n",
       "      <td>35.625</td>\n",
       "      <td>0.0</td>\n",
       "      <td>0.0</td>\n",
       "      <td>35.625</td>\n",
       "    </tr>\n",
       "    <tr>\n",
       "      <th>3</th>\n",
       "      <td>Andhra Pradesh</td>\n",
       "      <td>7.875</td>\n",
       "      <td>18.375</td>\n",
       "      <td>0.0</td>\n",
       "      <td>0.0</td>\n",
       "      <td>18.375</td>\n",
       "    </tr>\n",
       "    <tr>\n",
       "      <th>4</th>\n",
       "      <td>Andhra Pradesh</td>\n",
       "      <td>5.875</td>\n",
       "      <td>9.375</td>\n",
       "      <td>0.0</td>\n",
       "      <td>0.0</td>\n",
       "      <td>9.375</td>\n",
       "    </tr>\n",
       "  </tbody>\n",
       "</table>\n",
       "</div>"
      ],
      "text/plain": [
       "            state    SOi     Noi  Rpi  SPMi     AQI\n",
       "0  Andhra Pradesh  6.000  21.750  0.0   0.0  21.750\n",
       "1  Andhra Pradesh  3.875   8.750  0.0   0.0   8.750\n",
       "2  Andhra Pradesh  7.750  35.625  0.0   0.0  35.625\n",
       "3  Andhra Pradesh  7.875  18.375  0.0   0.0  18.375\n",
       "4  Andhra Pradesh  5.875   9.375  0.0   0.0   9.375"
      ]
     },
     "execution_count": 42,
     "metadata": {},
     "output_type": "execute_result"
    }
   ],
   "source": [
    "def cal_aqi(si,ni,rspmi,spmi):\n",
    "    aqi=0\n",
    "    if(si>ni and si>rspmi and si>spmi):\n",
    "     aqi=si\n",
    "    if(ni>si and ni>rspmi and ni>spmi):\n",
    "     aqi=ni\n",
    "    if(rspmi>si and rspmi>ni and rspmi>spmi):\n",
    "     aqi=rspmi\n",
    "    if(spmi>si and spmi>ni and spmi>rspmi):\n",
    "     aqi=spmi\n",
    "    return aqi\n",
    "\n",
    "df['AQI']=df.apply(lambda x:cal_aqi(x['SOi'],x['Noi'],x['Rpi'],x['SPMi']),axis=1)\n",
    "data= df[['state','SOi','Noi','Rpi','SPMi','AQI']]\n",
    "data.head()\n",
    "# Caluclating the Air Quality Index."
   ]
  },
  {
   "cell_type": "code",
   "execution_count": 43,
   "id": "2e9cd5af",
   "metadata": {
    "execution": {
     "iopub.execute_input": "2024-04-01T18:02:41.504809Z",
     "iopub.status.busy": "2024-04-01T18:02:41.503469Z",
     "iopub.status.idle": "2024-04-01T18:02:41.669722Z",
     "shell.execute_reply": "2024-04-01T18:02:41.669107Z",
     "shell.execute_reply.started": "2024-04-01T08:30:31.800273Z"
    },
    "papermill": {
     "duration": 0.298634,
     "end_time": "2024-04-01T18:02:41.669909",
     "exception": false,
     "start_time": "2024-04-01T18:02:41.371275",
     "status": "completed"
    },
    "tags": []
   },
   "outputs": [
    {
     "data": {
      "text/html": [
       "<div>\n",
       "<style scoped>\n",
       "    .dataframe tbody tr th:only-of-type {\n",
       "        vertical-align: middle;\n",
       "    }\n",
       "\n",
       "    .dataframe tbody tr th {\n",
       "        vertical-align: top;\n",
       "    }\n",
       "\n",
       "    .dataframe thead th {\n",
       "        text-align: right;\n",
       "    }\n",
       "</style>\n",
       "<table border=\"1\" class=\"dataframe\">\n",
       "  <thead>\n",
       "    <tr style=\"text-align: right;\">\n",
       "      <th></th>\n",
       "      <th>state</th>\n",
       "      <th>location</th>\n",
       "      <th>type</th>\n",
       "      <th>so2</th>\n",
       "      <th>no2</th>\n",
       "      <th>rspm</th>\n",
       "      <th>spm</th>\n",
       "      <th>pm2_5</th>\n",
       "      <th>SOi</th>\n",
       "      <th>Noi</th>\n",
       "      <th>Rpi</th>\n",
       "      <th>SPMi</th>\n",
       "      <th>AQI</th>\n",
       "      <th>AQI_Range</th>\n",
       "    </tr>\n",
       "  </thead>\n",
       "  <tbody>\n",
       "    <tr>\n",
       "      <th>0</th>\n",
       "      <td>Andhra Pradesh</td>\n",
       "      <td>Hyderabad</td>\n",
       "      <td>Residential, Rural and other Areas</td>\n",
       "      <td>4.8</td>\n",
       "      <td>17.4</td>\n",
       "      <td>0.0</td>\n",
       "      <td>0.0</td>\n",
       "      <td>0.0</td>\n",
       "      <td>6.000</td>\n",
       "      <td>21.750</td>\n",
       "      <td>0.0</td>\n",
       "      <td>0.0</td>\n",
       "      <td>21.750</td>\n",
       "      <td>Good</td>\n",
       "    </tr>\n",
       "    <tr>\n",
       "      <th>1</th>\n",
       "      <td>Andhra Pradesh</td>\n",
       "      <td>Hyderabad</td>\n",
       "      <td>Industrial Area</td>\n",
       "      <td>3.1</td>\n",
       "      <td>7.0</td>\n",
       "      <td>0.0</td>\n",
       "      <td>0.0</td>\n",
       "      <td>0.0</td>\n",
       "      <td>3.875</td>\n",
       "      <td>8.750</td>\n",
       "      <td>0.0</td>\n",
       "      <td>0.0</td>\n",
       "      <td>8.750</td>\n",
       "      <td>Good</td>\n",
       "    </tr>\n",
       "    <tr>\n",
       "      <th>2</th>\n",
       "      <td>Andhra Pradesh</td>\n",
       "      <td>Hyderabad</td>\n",
       "      <td>Residential, Rural and other Areas</td>\n",
       "      <td>6.2</td>\n",
       "      <td>28.5</td>\n",
       "      <td>0.0</td>\n",
       "      <td>0.0</td>\n",
       "      <td>0.0</td>\n",
       "      <td>7.750</td>\n",
       "      <td>35.625</td>\n",
       "      <td>0.0</td>\n",
       "      <td>0.0</td>\n",
       "      <td>35.625</td>\n",
       "      <td>Good</td>\n",
       "    </tr>\n",
       "    <tr>\n",
       "      <th>3</th>\n",
       "      <td>Andhra Pradesh</td>\n",
       "      <td>Hyderabad</td>\n",
       "      <td>Residential, Rural and other Areas</td>\n",
       "      <td>6.3</td>\n",
       "      <td>14.7</td>\n",
       "      <td>0.0</td>\n",
       "      <td>0.0</td>\n",
       "      <td>0.0</td>\n",
       "      <td>7.875</td>\n",
       "      <td>18.375</td>\n",
       "      <td>0.0</td>\n",
       "      <td>0.0</td>\n",
       "      <td>18.375</td>\n",
       "      <td>Good</td>\n",
       "    </tr>\n",
       "    <tr>\n",
       "      <th>4</th>\n",
       "      <td>Andhra Pradesh</td>\n",
       "      <td>Hyderabad</td>\n",
       "      <td>Industrial Area</td>\n",
       "      <td>4.7</td>\n",
       "      <td>7.5</td>\n",
       "      <td>0.0</td>\n",
       "      <td>0.0</td>\n",
       "      <td>0.0</td>\n",
       "      <td>5.875</td>\n",
       "      <td>9.375</td>\n",
       "      <td>0.0</td>\n",
       "      <td>0.0</td>\n",
       "      <td>9.375</td>\n",
       "      <td>Good</td>\n",
       "    </tr>\n",
       "  </tbody>\n",
       "</table>\n",
       "</div>"
      ],
      "text/plain": [
       "            state   location                                type  so2   no2  \\\n",
       "0  Andhra Pradesh  Hyderabad  Residential, Rural and other Areas  4.8  17.4   \n",
       "1  Andhra Pradesh  Hyderabad                     Industrial Area  3.1   7.0   \n",
       "2  Andhra Pradesh  Hyderabad  Residential, Rural and other Areas  6.2  28.5   \n",
       "3  Andhra Pradesh  Hyderabad  Residential, Rural and other Areas  6.3  14.7   \n",
       "4  Andhra Pradesh  Hyderabad                     Industrial Area  4.7   7.5   \n",
       "\n",
       "   rspm  spm  pm2_5    SOi     Noi  Rpi  SPMi     AQI AQI_Range  \n",
       "0   0.0  0.0    0.0  6.000  21.750  0.0   0.0  21.750      Good  \n",
       "1   0.0  0.0    0.0  3.875   8.750  0.0   0.0   8.750      Good  \n",
       "2   0.0  0.0    0.0  7.750  35.625  0.0   0.0  35.625      Good  \n",
       "3   0.0  0.0    0.0  7.875  18.375  0.0   0.0  18.375      Good  \n",
       "4   0.0  0.0    0.0  5.875   9.375  0.0   0.0   9.375      Good  "
      ]
     },
     "execution_count": 43,
     "metadata": {},
     "output_type": "execute_result"
    }
   ],
   "source": [
    "def AQI_Range(x):\n",
    "    if x<=50:\n",
    "        return \"Good\"\n",
    "    elif x>50 and x<=100:\n",
    "        return \"Moderate\"\n",
    "    elif x>100 and x<=200:\n",
    "        return \"Poor\"\n",
    "    elif x>200 and x<=300:\n",
    "        return \"Unhealthy\"\n",
    "    elif x>300 and x<=400:\n",
    "        return \"Very unhealthy\"\n",
    "    elif x>400:\n",
    "        return \"Hazardous\"\n",
    "\n",
    "df['AQI_Range'] = df['AQI'] .apply(AQI_Range)\n",
    "df.head()\n",
    "# Using threshold values to classify a particular values as good, moderate, poor, unhealthy, very unhealthy and Hazardous"
   ]
  },
  {
   "cell_type": "code",
   "execution_count": 44,
   "id": "ca5d9f6f",
   "metadata": {
    "execution": {
     "iopub.execute_input": "2024-04-01T18:02:41.942410Z",
     "iopub.status.busy": "2024-04-01T18:02:41.941408Z",
     "iopub.status.idle": "2024-04-01T18:02:41.946003Z",
     "shell.execute_reply": "2024-04-01T18:02:41.945277Z",
     "shell.execute_reply.started": "2024-04-01T08:30:32.086741Z"
    },
    "papermill": {
     "duration": 0.154955,
     "end_time": "2024-04-01T18:02:41.946191",
     "exception": false,
     "start_time": "2024-04-01T18:02:41.791236",
     "status": "completed"
    },
    "tags": []
   },
   "outputs": [
    {
     "data": {
      "text/plain": [
       "Good              219643\n",
       "Poor               93272\n",
       "Moderate           56571\n",
       "Unhealthy          31733\n",
       "Hazardous          18700\n",
       "Very unhealthy     15823\n",
       "Name: AQI_Range, dtype: int64"
      ]
     },
     "execution_count": 44,
     "metadata": {},
     "output_type": "execute_result"
    }
   ],
   "source": [
    "df['AQI_Range'].value_counts()\n",
    "# These are the counts of values present in the AQI_Range column."
   ]
  },
  {
   "cell_type": "markdown",
   "id": "ebb3c01c",
   "metadata": {
    "papermill": {
     "duration": 0.120899,
     "end_time": "2024-04-01T18:02:42.190885",
     "exception": false,
     "start_time": "2024-04-01T18:02:42.069986",
     "status": "completed"
    },
    "tags": []
   },
   "source": [
    "### Splitting the dataset into Dependent and Independent columns"
   ]
  },
  {
   "cell_type": "code",
   "execution_count": 45,
   "id": "9690cc69",
   "metadata": {
    "execution": {
     "iopub.execute_input": "2024-04-01T18:02:42.439460Z",
     "iopub.status.busy": "2024-04-01T18:02:42.438517Z",
     "iopub.status.idle": "2024-04-01T18:02:42.478076Z",
     "shell.execute_reply": "2024-04-01T18:02:42.477350Z",
     "shell.execute_reply.started": "2024-04-01T08:30:32.155156Z"
    },
    "papermill": {
     "duration": 0.16699,
     "end_time": "2024-04-01T18:02:42.478258",
     "exception": false,
     "start_time": "2024-04-01T18:02:42.311268",
     "status": "completed"
    },
    "tags": []
   },
   "outputs": [
    {
     "data": {
      "text/html": [
       "<div>\n",
       "<style scoped>\n",
       "    .dataframe tbody tr th:only-of-type {\n",
       "        vertical-align: middle;\n",
       "    }\n",
       "\n",
       "    .dataframe tbody tr th {\n",
       "        vertical-align: top;\n",
       "    }\n",
       "\n",
       "    .dataframe thead th {\n",
       "        text-align: right;\n",
       "    }\n",
       "</style>\n",
       "<table border=\"1\" class=\"dataframe\">\n",
       "  <thead>\n",
       "    <tr style=\"text-align: right;\">\n",
       "      <th></th>\n",
       "      <th>SOi</th>\n",
       "      <th>Noi</th>\n",
       "      <th>Rpi</th>\n",
       "      <th>SPMi</th>\n",
       "    </tr>\n",
       "  </thead>\n",
       "  <tbody>\n",
       "    <tr>\n",
       "      <th>0</th>\n",
       "      <td>6.000</td>\n",
       "      <td>21.750</td>\n",
       "      <td>0.0</td>\n",
       "      <td>0.0</td>\n",
       "    </tr>\n",
       "    <tr>\n",
       "      <th>1</th>\n",
       "      <td>3.875</td>\n",
       "      <td>8.750</td>\n",
       "      <td>0.0</td>\n",
       "      <td>0.0</td>\n",
       "    </tr>\n",
       "    <tr>\n",
       "      <th>2</th>\n",
       "      <td>7.750</td>\n",
       "      <td>35.625</td>\n",
       "      <td>0.0</td>\n",
       "      <td>0.0</td>\n",
       "    </tr>\n",
       "    <tr>\n",
       "      <th>3</th>\n",
       "      <td>7.875</td>\n",
       "      <td>18.375</td>\n",
       "      <td>0.0</td>\n",
       "      <td>0.0</td>\n",
       "    </tr>\n",
       "    <tr>\n",
       "      <th>4</th>\n",
       "      <td>5.875</td>\n",
       "      <td>9.375</td>\n",
       "      <td>0.0</td>\n",
       "      <td>0.0</td>\n",
       "    </tr>\n",
       "  </tbody>\n",
       "</table>\n",
       "</div>"
      ],
      "text/plain": [
       "     SOi     Noi  Rpi  SPMi\n",
       "0  6.000  21.750  0.0   0.0\n",
       "1  3.875   8.750  0.0   0.0\n",
       "2  7.750  35.625  0.0   0.0\n",
       "3  7.875  18.375  0.0   0.0\n",
       "4  5.875   9.375  0.0   0.0"
      ]
     },
     "execution_count": 45,
     "metadata": {},
     "output_type": "execute_result"
    }
   ],
   "source": [
    "X=df[['SOi','Noi','Rpi','SPMi']]\n",
    "Y=df['AQI']\n",
    "X.head()\n",
    "# we only select columns like soi, noi, rpi, spmi"
   ]
  },
  {
   "cell_type": "code",
   "execution_count": 46,
   "id": "2f9b680c",
   "metadata": {
    "execution": {
     "iopub.execute_input": "2024-04-01T18:02:42.729568Z",
     "iopub.status.busy": "2024-04-01T18:02:42.728811Z",
     "iopub.status.idle": "2024-04-01T18:02:42.732816Z",
     "shell.execute_reply": "2024-04-01T18:02:42.732221Z",
     "shell.execute_reply.started": "2024-04-01T08:30:32.206666Z"
    },
    "papermill": {
     "duration": 0.133581,
     "end_time": "2024-04-01T18:02:42.732989",
     "exception": false,
     "start_time": "2024-04-01T18:02:42.599408",
     "status": "completed"
    },
    "tags": []
   },
   "outputs": [
    {
     "data": {
      "text/plain": [
       "0    21.750\n",
       "1     8.750\n",
       "2    35.625\n",
       "3    18.375\n",
       "4     9.375\n",
       "Name: AQI, dtype: float64"
      ]
     },
     "execution_count": 46,
     "metadata": {},
     "output_type": "execute_result"
    }
   ],
   "source": [
    "Y.head()\n",
    "# the AQI column is the target column"
   ]
  },
  {
   "cell_type": "code",
   "execution_count": 47,
   "id": "73b6affb",
   "metadata": {
    "execution": {
     "iopub.execute_input": "2024-04-01T18:02:42.983581Z",
     "iopub.status.busy": "2024-04-01T18:02:42.982669Z",
     "iopub.status.idle": "2024-04-01T18:02:43.056512Z",
     "shell.execute_reply": "2024-04-01T18:02:43.055748Z",
     "shell.execute_reply.started": "2024-04-01T08:30:32.219811Z"
    },
    "papermill": {
     "duration": 0.202278,
     "end_time": "2024-04-01T18:02:43.056683",
     "exception": false,
     "start_time": "2024-04-01T18:02:42.854405",
     "status": "completed"
    },
    "tags": []
   },
   "outputs": [
    {
     "name": "stdout",
     "output_type": "stream",
     "text": [
      "(348593, 4) (87149, 4) (348593,) (87149,)\n"
     ]
    }
   ],
   "source": [
    "X_train,X_test,Y_train,Y_test=train_test_split(X,Y,test_size=0.2,random_state=70)\n",
    "print(X_train.shape,X_test.shape,Y_train.shape,Y_test.shape)\n",
    "# splitting the data into training and testing data"
   ]
  },
  {
   "cell_type": "markdown",
   "id": "7826d91c",
   "metadata": {
    "papermill": {
     "duration": 0.123134,
     "end_time": "2024-04-01T18:02:43.303217",
     "exception": false,
     "start_time": "2024-04-01T18:02:43.180083",
     "status": "completed"
    },
    "tags": []
   },
   "source": [
    "### Linear Regression"
   ]
  },
  {
   "cell_type": "code",
   "execution_count": 48,
   "id": "3d577052",
   "metadata": {
    "execution": {
     "iopub.execute_input": "2024-04-01T18:02:43.559460Z",
     "iopub.status.busy": "2024-04-01T18:02:43.558620Z",
     "iopub.status.idle": "2024-04-01T18:02:43.622469Z",
     "shell.execute_reply": "2024-04-01T18:02:43.621726Z",
     "shell.execute_reply.started": "2024-04-01T08:30:32.320861Z"
    },
    "papermill": {
     "duration": 0.196716,
     "end_time": "2024-04-01T18:02:43.622649",
     "exception": false,
     "start_time": "2024-04-01T18:02:43.425933",
     "status": "completed"
    },
    "tags": []
   },
   "outputs": [
    {
     "data": {
      "text/plain": [
       "LinearRegression()"
      ]
     },
     "execution_count": 48,
     "metadata": {},
     "output_type": "execute_result"
    }
   ],
   "source": [
    "model=LinearRegression()\n",
    "model.fit(X_train,Y_train)"
   ]
  },
  {
   "cell_type": "code",
   "execution_count": 49,
   "id": "8f50c52c",
   "metadata": {
    "execution": {
     "iopub.execute_input": "2024-04-01T18:02:43.877587Z",
     "iopub.status.busy": "2024-04-01T18:02:43.876769Z",
     "iopub.status.idle": "2024-04-01T18:02:43.896869Z",
     "shell.execute_reply": "2024-04-01T18:02:43.895792Z",
     "shell.execute_reply.started": "2024-04-01T08:30:32.395608Z"
    },
    "papermill": {
     "duration": 0.152087,
     "end_time": "2024-04-01T18:02:43.897131",
     "exception": false,
     "start_time": "2024-04-01T18:02:43.745044",
     "status": "completed"
    },
    "tags": []
   },
   "outputs": [],
   "source": [
    "#predicting train\n",
    "train_pred=model.predict(X_train)\n",
    "#predicting on test\n",
    "test_pred=model.predict(X_test)"
   ]
  },
  {
   "cell_type": "code",
   "execution_count": 50,
   "id": "432661a1",
   "metadata": {
    "execution": {
     "iopub.execute_input": "2024-04-01T18:02:44.202576Z",
     "iopub.status.busy": "2024-04-01T18:02:44.201364Z",
     "iopub.status.idle": "2024-04-01T18:02:44.226626Z",
     "shell.execute_reply": "2024-04-01T18:02:44.227534Z",
     "shell.execute_reply.started": "2024-04-01T08:30:32.418686Z"
    },
    "papermill": {
     "duration": 0.160023,
     "end_time": "2024-04-01T18:02:44.227896",
     "exception": false,
     "start_time": "2024-04-01T18:02:44.067873",
     "status": "completed"
    },
    "tags": []
   },
   "outputs": [
    {
     "name": "stdout",
     "output_type": "stream",
     "text": [
      "RMSE TrainingData =  13.583424938613533\n",
      "RMSE TestData =  13.672937344789002\n",
      "--------------------------------------------------\n",
      "RSquared value on train: 0.9849533579250526\n",
      "RSquared value on test: 0.9847286394495923\n"
     ]
    }
   ],
   "source": [
    "RMSE_train=(np.sqrt(metrics.mean_squared_error(Y_train,train_pred)))\n",
    "RMSE_test=(np.sqrt(metrics.mean_squared_error(Y_test,test_pred)))\n",
    "print(\"RMSE TrainingData = \",str(RMSE_train))\n",
    "print(\"RMSE TestData = \",str(RMSE_test))\n",
    "print('-'*50)\n",
    "print('RSquared value on train:',model.score(X_train, Y_train))\n",
    "print('RSquared value on test:',model.score(X_test, Y_test))"
   ]
  },
  {
   "cell_type": "markdown",
   "id": "2a0fae74",
   "metadata": {
    "papermill": {
     "duration": 0.122331,
     "end_time": "2024-04-01T18:02:44.520575",
     "exception": false,
     "start_time": "2024-04-01T18:02:44.398244",
     "status": "completed"
    },
    "tags": []
   },
   "source": [
    "### Decision Tree Regressor"
   ]
  },
  {
   "cell_type": "code",
   "execution_count": 51,
   "id": "7414c7c0",
   "metadata": {
    "execution": {
     "iopub.execute_input": "2024-04-01T18:02:44.773169Z",
     "iopub.status.busy": "2024-04-01T18:02:44.772060Z",
     "iopub.status.idle": "2024-04-01T18:02:45.509054Z",
     "shell.execute_reply": "2024-04-01T18:02:45.508323Z",
     "shell.execute_reply.started": "2024-04-01T08:30:32.457830Z"
    },
    "papermill": {
     "duration": 0.865972,
     "end_time": "2024-04-01T18:02:45.509227",
     "exception": false,
     "start_time": "2024-04-01T18:02:44.643255",
     "status": "completed"
    },
    "tags": []
   },
   "outputs": [
    {
     "data": {
      "text/plain": [
       "DecisionTreeRegressor()"
      ]
     },
     "execution_count": 51,
     "metadata": {},
     "output_type": "execute_result"
    }
   ],
   "source": [
    "DT=DecisionTreeRegressor()\n",
    "DT.fit(X_train,Y_train)"
   ]
  },
  {
   "cell_type": "code",
   "execution_count": 52,
   "id": "80913afa",
   "metadata": {
    "execution": {
     "iopub.execute_input": "2024-04-01T18:02:45.761065Z",
     "iopub.status.busy": "2024-04-01T18:02:45.759962Z",
     "iopub.status.idle": "2024-04-01T18:02:45.849224Z",
     "shell.execute_reply": "2024-04-01T18:02:45.850062Z",
     "shell.execute_reply.started": "2024-04-01T08:30:33.271327Z"
    },
    "papermill": {
     "duration": 0.216365,
     "end_time": "2024-04-01T18:02:45.850339",
     "exception": false,
     "start_time": "2024-04-01T18:02:45.633974",
     "status": "completed"
    },
    "tags": []
   },
   "outputs": [],
   "source": [
    "#predicting train\n",
    "train_preds=DT.predict(X_train)\n",
    "#predicting on test\n",
    "test_preds=DT.predict(X_test)"
   ]
  },
  {
   "cell_type": "code",
   "execution_count": 53,
   "id": "96a0857e",
   "metadata": {
    "execution": {
     "iopub.execute_input": "2024-04-01T18:02:46.103199Z",
     "iopub.status.busy": "2024-04-01T18:02:46.102109Z",
     "iopub.status.idle": "2024-04-01T18:02:46.203837Z",
     "shell.execute_reply": "2024-04-01T18:02:46.203129Z",
     "shell.execute_reply.started": "2024-04-01T08:30:33.372123Z"
    },
    "papermill": {
     "duration": 0.231236,
     "end_time": "2024-04-01T18:02:46.204019",
     "exception": false,
     "start_time": "2024-04-01T18:02:45.972783",
     "status": "completed"
    },
    "tags": []
   },
   "outputs": [
    {
     "name": "stdout",
     "output_type": "stream",
     "text": [
      "RMSE TrainingData =  2.2572741743440878e-13\n",
      "RMSE TestData =  1.3056743404277609\n",
      "--------------------------------------------------\n",
      "RSquared value on train: 1.0\n",
      "RSquared value on test: 0.999860740823718\n"
     ]
    }
   ],
   "source": [
    "RMSE_train=(np.sqrt(metrics.mean_squared_error(Y_train,train_preds)))\n",
    "RMSE_test=(np.sqrt(metrics.mean_squared_error(Y_test,test_preds)))\n",
    "print(\"RMSE TrainingData = \",str(RMSE_train))\n",
    "print(\"RMSE TestData = \",str(RMSE_test))\n",
    "print('-'*50)\n",
    "print('RSquared value on train:',DT.score(X_train, Y_train))\n",
    "print('RSquared value on test:',DT.score(X_test, Y_test))"
   ]
  },
  {
   "cell_type": "markdown",
   "id": "b0b836bc",
   "metadata": {
    "papermill": {
     "duration": 0.122861,
     "end_time": "2024-04-01T18:02:46.450107",
     "exception": false,
     "start_time": "2024-04-01T18:02:46.327246",
     "status": "completed"
    },
    "tags": []
   },
   "source": [
    "### Random Forest Regressor"
   ]
  },
  {
   "cell_type": "code",
   "execution_count": 54,
   "id": "c69ecf4f",
   "metadata": {
    "execution": {
     "iopub.execute_input": "2024-04-01T18:02:46.700603Z",
     "iopub.status.busy": "2024-04-01T18:02:46.699489Z",
     "iopub.status.idle": "2024-04-01T18:03:38.213194Z",
     "shell.execute_reply": "2024-04-01T18:03:38.212029Z",
     "shell.execute_reply.started": "2024-04-01T08:30:33.478314Z"
    },
    "papermill": {
     "duration": 51.640954,
     "end_time": "2024-04-01T18:03:38.213383",
     "exception": false,
     "start_time": "2024-04-01T18:02:46.572429",
     "status": "completed"
    },
    "tags": []
   },
   "outputs": [],
   "source": [
    "RF=RandomForestRegressor().fit(X_train,Y_train)"
   ]
  },
  {
   "cell_type": "code",
   "execution_count": 55,
   "id": "b3820096",
   "metadata": {
    "execution": {
     "iopub.execute_input": "2024-04-01T18:03:38.465874Z",
     "iopub.status.busy": "2024-04-01T18:03:38.464760Z",
     "iopub.status.idle": "2024-04-01T18:03:46.010206Z",
     "shell.execute_reply": "2024-04-01T18:03:46.009507Z",
     "shell.execute_reply.started": "2024-04-01T08:31:26.381034Z"
    },
    "papermill": {
     "duration": 7.674622,
     "end_time": "2024-04-01T18:03:46.010390",
     "exception": false,
     "start_time": "2024-04-01T18:03:38.335768",
     "status": "completed"
    },
    "tags": []
   },
   "outputs": [],
   "source": [
    "#predicting train\n",
    "train_preds1=RF.predict(X_train)\n",
    "#predicting on test\n",
    "test_preds1=RF.predict(X_test)"
   ]
  },
  {
   "cell_type": "code",
   "execution_count": 56,
   "id": "75c806bd",
   "metadata": {
    "execution": {
     "iopub.execute_input": "2024-04-01T18:03:46.263272Z",
     "iopub.status.busy": "2024-04-01T18:03:46.262396Z",
     "iopub.status.idle": "2024-04-01T18:03:53.892564Z",
     "shell.execute_reply": "2024-04-01T18:03:53.891864Z",
     "shell.execute_reply.started": "2024-04-01T08:31:33.905233Z"
    },
    "papermill": {
     "duration": 7.760542,
     "end_time": "2024-04-01T18:03:53.892751",
     "exception": false,
     "start_time": "2024-04-01T18:03:46.132209",
     "status": "completed"
    },
    "tags": []
   },
   "outputs": [
    {
     "name": "stdout",
     "output_type": "stream",
     "text": [
      "RMSE TrainingData =  0.422410077053292\n",
      "RMSE TestData =  1.1620916953654736\n",
      "--------------------------------------------------\n",
      "RSquared value on train: 0.9999854491100452\n",
      "RSquared value on test: 0.9998896849214327\n"
     ]
    }
   ],
   "source": [
    "RMSE_train=(np.sqrt(metrics.mean_squared_error(Y_train,train_preds1)))\n",
    "RMSE_test=(np.sqrt(metrics.mean_squared_error(Y_test,test_preds1)))\n",
    "print(\"RMSE TrainingData = \",str(RMSE_train))\n",
    "print(\"RMSE TestData = \",str(RMSE_test))\n",
    "print('-'*50)\n",
    "print('RSquared value on train:',RF.score(X_train, Y_train))\n",
    "print('RSquared value on test:',RF.score(X_test, Y_test))"
   ]
  },
  {
   "cell_type": "markdown",
   "id": "b11ac1ff",
   "metadata": {
    "papermill": {
     "duration": 0.12459,
     "end_time": "2024-04-01T18:03:54.143676",
     "exception": false,
     "start_time": "2024-04-01T18:03:54.019086",
     "status": "completed"
    },
    "tags": []
   },
   "source": [
    "# Classification Algorithms"
   ]
  },
  {
   "cell_type": "code",
   "execution_count": 57,
   "id": "a788f887",
   "metadata": {
    "execution": {
     "iopub.execute_input": "2024-04-01T18:03:54.400307Z",
     "iopub.status.busy": "2024-04-01T18:03:54.399142Z",
     "iopub.status.idle": "2024-04-01T18:03:54.401393Z",
     "shell.execute_reply": "2024-04-01T18:03:54.402056Z",
     "shell.execute_reply.started": "2024-04-01T08:31:41.587838Z"
    },
    "papermill": {
     "duration": 0.132769,
     "end_time": "2024-04-01T18:03:54.402267",
     "exception": false,
     "start_time": "2024-04-01T18:03:54.269498",
     "status": "completed"
    },
    "tags": []
   },
   "outputs": [],
   "source": [
    "from sklearn.linear_model import LogisticRegression\n",
    "from sklearn.tree import DecisionTreeClassifier\n",
    "from sklearn.ensemble import RandomForestClassifier\n",
    "from sklearn.neighbors import KNeighborsClassifier"
   ]
  },
  {
   "cell_type": "code",
   "execution_count": 58,
   "id": "c7f62447",
   "metadata": {
    "execution": {
     "iopub.execute_input": "2024-04-01T18:03:54.656346Z",
     "iopub.status.busy": "2024-04-01T18:03:54.655545Z",
     "iopub.status.idle": "2024-04-01T18:03:54.671554Z",
     "shell.execute_reply": "2024-04-01T18:03:54.672259Z",
     "shell.execute_reply.started": "2024-04-01T08:31:41.596490Z"
    },
    "papermill": {
     "duration": 0.144713,
     "end_time": "2024-04-01T18:03:54.672502",
     "exception": false,
     "start_time": "2024-04-01T18:03:54.527789",
     "status": "completed"
    },
    "tags": []
   },
   "outputs": [],
   "source": [
    "X2 = df[['SOi','Noi','Rpi','SPMi']]\n",
    "Y2 = df['AQI_Range']\n",
    "# Splitting the data into independent and dependent columns for classification "
   ]
  },
  {
   "cell_type": "code",
   "execution_count": 59,
   "id": "8ce447ec",
   "metadata": {
    "execution": {
     "iopub.execute_input": "2024-04-01T18:03:54.924825Z",
     "iopub.status.busy": "2024-04-01T18:03:54.924024Z",
     "iopub.status.idle": "2024-04-01T18:03:54.953600Z",
     "shell.execute_reply": "2024-04-01T18:03:54.952816Z",
     "shell.execute_reply.started": "2024-04-01T08:31:41.618509Z"
    },
    "papermill": {
     "duration": 0.157738,
     "end_time": "2024-04-01T18:03:54.953800",
     "exception": false,
     "start_time": "2024-04-01T18:03:54.796062",
     "status": "completed"
    },
    "tags": []
   },
   "outputs": [
    {
     "data": {
      "text/plain": [
       "Good              219643\n",
       "Poor               93272\n",
       "Moderate           56571\n",
       "Unhealthy          31733\n",
       "Hazardous          18700\n",
       "Very unhealthy     15823\n",
       "Name: AQI_Range, dtype: int64"
      ]
     },
     "execution_count": 59,
     "metadata": {},
     "output_type": "execute_result"
    }
   ],
   "source": [
    "df['AQI_Range'].value_counts()"
   ]
  },
  {
   "cell_type": "code",
   "execution_count": 60,
   "id": "3c3acc22",
   "metadata": {
    "execution": {
     "iopub.execute_input": "2024-04-01T18:03:55.208418Z",
     "iopub.status.busy": "2024-04-01T18:03:55.207652Z",
     "iopub.status.idle": "2024-04-01T18:03:55.328601Z",
     "shell.execute_reply": "2024-04-01T18:03:55.329158Z",
     "shell.execute_reply.started": "2024-04-01T08:31:41.691569Z"
    },
    "papermill": {
     "duration": 0.249415,
     "end_time": "2024-04-01T18:03:55.329413",
     "exception": false,
     "start_time": "2024-04-01T18:03:55.079998",
     "status": "completed"
    },
    "tags": []
   },
   "outputs": [],
   "source": [
    "X_train2, X_test2, Y_train2, Y_test2 = train_test_split(X2, Y2, test_size=0.33, random_state=70)\n",
    "# Splitting the data into training and testing data "
   ]
  },
  {
   "cell_type": "markdown",
   "id": "b13599fb",
   "metadata": {
    "papermill": {
     "duration": 0.130885,
     "end_time": "2024-04-01T18:03:55.585047",
     "exception": false,
     "start_time": "2024-04-01T18:03:55.454162",
     "status": "completed"
    },
    "tags": []
   },
   "source": [
    "### Logistic Regression"
   ]
  },
  {
   "cell_type": "code",
   "execution_count": 61,
   "id": "f99b38ec",
   "metadata": {
    "execution": {
     "iopub.execute_input": "2024-04-01T18:03:55.843565Z",
     "iopub.status.busy": "2024-04-01T18:03:55.842783Z",
     "iopub.status.idle": "2024-04-01T18:04:17.664651Z",
     "shell.execute_reply": "2024-04-01T18:04:17.663975Z",
     "shell.execute_reply.started": "2024-04-01T08:31:41.799449Z"
    },
    "papermill": {
     "duration": 21.955221,
     "end_time": "2024-04-01T18:04:17.664844",
     "exception": false,
     "start_time": "2024-04-01T18:03:55.709623",
     "status": "completed"
    },
    "tags": []
   },
   "outputs": [
    {
     "name": "stdout",
     "output_type": "stream",
     "text": [
      "Model accuracy on train is:  0.7276012426913104\n",
      "Model accuracy on test is:  0.7271254216071491\n",
      "--------------------------------------------------\n",
      "KappaScore is:  0.584377382981496\n"
     ]
    }
   ],
   "source": [
    "#fit the model on train data \n",
    "log_reg = LogisticRegression().fit(X_train2, Y_train2)\n",
    "\n",
    "#predict on train \n",
    "train_preds2 = log_reg.predict(X_train2)\n",
    "#accuracy on train\n",
    "print(\"Model accuracy on train is: \", accuracy_score(Y_train2, train_preds2))\n",
    "\n",
    "#predict on test\n",
    "test_preds2 = log_reg.predict(X_test2)\n",
    "#accuracy on test\n",
    "print(\"Model accuracy on test is: \", accuracy_score(Y_test2, test_preds2))\n",
    "print('-'*50)\n",
    "\n",
    "# Kappa Score.\n",
    "print('KappaScore is: ', metrics.cohen_kappa_score(Y_test2,test_preds2))"
   ]
  },
  {
   "cell_type": "code",
   "execution_count": 62,
   "id": "1283ddd5",
   "metadata": {
    "execution": {
     "iopub.execute_input": "2024-04-01T18:04:17.948136Z",
     "iopub.status.busy": "2024-04-01T18:04:17.946699Z",
     "iopub.status.idle": "2024-04-01T18:04:17.957880Z",
     "shell.execute_reply": "2024-04-01T18:04:17.957036Z",
     "shell.execute_reply.started": "2024-04-01T08:32:06.835009Z"
    },
    "papermill": {
     "duration": 0.157618,
     "end_time": "2024-04-01T18:04:17.958082",
     "exception": false,
     "start_time": "2024-04-01T18:04:17.800464",
     "status": "completed"
    },
    "tags": []
   },
   "outputs": [
    {
     "data": {
      "text/plain": [
       "array(['Good'], dtype=object)"
      ]
     },
     "execution_count": 62,
     "metadata": {},
     "output_type": "execute_result"
    }
   ],
   "source": [
    "log_reg.predict([[727,327.55,78.2,100]]) "
   ]
  },
  {
   "cell_type": "code",
   "execution_count": 63,
   "id": "ba3610a8",
   "metadata": {
    "execution": {
     "iopub.execute_input": "2024-04-01T18:04:18.231865Z",
     "iopub.status.busy": "2024-04-01T18:04:18.230832Z",
     "iopub.status.idle": "2024-04-01T18:04:18.234540Z",
     "shell.execute_reply": "2024-04-01T18:04:18.235090Z",
     "shell.execute_reply.started": "2024-04-01T08:32:06.846179Z"
    },
    "papermill": {
     "duration": 0.144369,
     "end_time": "2024-04-01T18:04:18.235308",
     "exception": false,
     "start_time": "2024-04-01T18:04:18.090939",
     "status": "completed"
    },
    "tags": []
   },
   "outputs": [
    {
     "data": {
      "text/plain": [
       "array(['Poor'], dtype=object)"
      ]
     },
     "execution_count": 63,
     "metadata": {},
     "output_type": "execute_result"
    }
   ],
   "source": [
    "log_reg.predict([[2.7,45,35.16,23]]) "
   ]
  },
  {
   "cell_type": "code",
   "execution_count": 64,
   "id": "920a5553",
   "metadata": {
    "execution": {
     "iopub.execute_input": "2024-04-01T18:04:18.500772Z",
     "iopub.status.busy": "2024-04-01T18:04:18.499604Z",
     "iopub.status.idle": "2024-04-01T18:04:18.506970Z",
     "shell.execute_reply": "2024-04-01T18:04:18.507490Z",
     "shell.execute_reply.started": "2024-04-01T08:32:06.862615Z"
    },
    "papermill": {
     "duration": 0.141075,
     "end_time": "2024-04-01T18:04:18.507711",
     "exception": false,
     "start_time": "2024-04-01T18:04:18.366636",
     "status": "completed"
    },
    "tags": []
   },
   "outputs": [
    {
     "data": {
      "text/plain": [
       "array(['Good'], dtype=object)"
      ]
     },
     "execution_count": 64,
     "metadata": {},
     "output_type": "execute_result"
    }
   ],
   "source": [
    "log_reg.predict([[10,2.8,82,20]]) "
   ]
  },
  {
   "cell_type": "code",
   "execution_count": 65,
   "id": "07d901a2",
   "metadata": {
    "execution": {
     "iopub.execute_input": "2024-04-01T18:04:18.776963Z",
     "iopub.status.busy": "2024-04-01T18:04:18.775833Z",
     "iopub.status.idle": "2024-04-01T18:04:18.783131Z",
     "shell.execute_reply": "2024-04-01T18:04:18.783649Z",
     "shell.execute_reply.started": "2024-04-01T08:32:06.875593Z"
    },
    "papermill": {
     "duration": 0.144084,
     "end_time": "2024-04-01T18:04:18.783911",
     "exception": false,
     "start_time": "2024-04-01T18:04:18.639827",
     "status": "completed"
    },
    "tags": []
   },
   "outputs": [
    {
     "data": {
      "text/plain": [
       "array(['Poor'], dtype=object)"
      ]
     },
     "execution_count": 65,
     "metadata": {},
     "output_type": "execute_result"
    }
   ],
   "source": [
    "log_reg.predict([[2,45.8,37,32]])"
   ]
  },
  {
   "cell_type": "markdown",
   "id": "6bcbab6b",
   "metadata": {
    "papermill": {
     "duration": 0.130487,
     "end_time": "2024-04-01T18:04:19.044384",
     "exception": false,
     "start_time": "2024-04-01T18:04:18.913897",
     "status": "completed"
    },
    "tags": []
   },
   "source": [
    "### Decision Tree Classifier"
   ]
  },
  {
   "cell_type": "code",
   "execution_count": 66,
   "id": "1116af9e",
   "metadata": {
    "execution": {
     "iopub.execute_input": "2024-04-01T18:04:19.306157Z",
     "iopub.status.busy": "2024-04-01T18:04:19.305059Z",
     "iopub.status.idle": "2024-04-01T18:04:21.417729Z",
     "shell.execute_reply": "2024-04-01T18:04:21.416993Z",
     "shell.execute_reply.started": "2024-04-01T08:32:06.889121Z"
    },
    "papermill": {
     "duration": 2.244389,
     "end_time": "2024-04-01T18:04:21.417960",
     "exception": false,
     "start_time": "2024-04-01T18:04:19.173571",
     "status": "completed"
    },
    "tags": []
   },
   "outputs": [
    {
     "name": "stdout",
     "output_type": "stream",
     "text": [
      "Model accuracy on train is:  1.0\n",
      "Model accuracy on test is:  0.9998122326923745\n",
      "--------------------------------------------------\n",
      "KappaScore is:  0.9997215109561272\n"
     ]
    }
   ],
   "source": [
    "#fit the model on train data \n",
    "DT2 = DecisionTreeClassifier().fit(X_train2,Y_train2)\n",
    "\n",
    "#predict on train \n",
    "train_preds3 = DT2.predict(X_train2)\n",
    "#accuracy on train\n",
    "print(\"Model accuracy on train is: \", accuracy_score(Y_train2, train_preds3))\n",
    "\n",
    "#predict on test\n",
    "test_preds3 = DT2.predict(X_test2)\n",
    "#accuracy on test\n",
    "print(\"Model accuracy on test is: \", accuracy_score(Y_test2, test_preds3))\n",
    "print('-'*50)\n",
    "\n",
    "# Kappa Score\n",
    "print('KappaScore is: ', metrics.cohen_kappa_score(Y_test2,test_preds3))"
   ]
  },
  {
   "cell_type": "markdown",
   "id": "8052278f",
   "metadata": {
    "papermill": {
     "duration": 0.132206,
     "end_time": "2024-04-01T18:04:21.686788",
     "exception": false,
     "start_time": "2024-04-01T18:04:21.554582",
     "status": "completed"
    },
    "tags": []
   },
   "source": [
    "### Random Forest Classifier"
   ]
  },
  {
   "cell_type": "code",
   "execution_count": 67,
   "id": "0c45fe12",
   "metadata": {
    "execution": {
     "iopub.execute_input": "2024-04-01T18:04:21.954931Z",
     "iopub.status.busy": "2024-04-01T18:04:21.954065Z",
     "iopub.status.idle": "2024-04-01T18:04:58.857708Z",
     "shell.execute_reply": "2024-04-01T18:04:58.856966Z",
     "shell.execute_reply.started": "2024-04-01T08:32:10.255165Z"
    },
    "papermill": {
     "duration": 37.038805,
     "end_time": "2024-04-01T18:04:58.857913",
     "exception": false,
     "start_time": "2024-04-01T18:04:21.819108",
     "status": "completed"
    },
    "tags": []
   },
   "outputs": [
    {
     "name": "stdout",
     "output_type": "stream",
     "text": [
      "Model accuracy on train is:  1.0\n",
      "Model accuracy on test is:  0.9998330957265552\n",
      "--------------------------------------------------\n",
      "KappaScore is:  0.9997524575765242\n"
     ]
    }
   ],
   "source": [
    "#fit the model on train data \n",
    "RF=RandomForestClassifier().fit(X_train2,Y_train2)\n",
    "#predict on train \n",
    "train_preds4 = RF.predict(X_train2)\n",
    "#accuracy on train\n",
    "print(\"Model accuracy on train is: \", accuracy_score(Y_train2, train_preds4))\n",
    "\n",
    "#predict on test\n",
    "test_preds4 = RF.predict(X_test2)\n",
    "#accuracy on test\n",
    "print(\"Model accuracy on test is: \", accuracy_score(Y_test2, test_preds4))\n",
    "print('-'*50)\n",
    "\n",
    "# Kappa Score\n",
    "print('KappaScore is: ', metrics.cohen_kappa_score(Y_test2,test_preds4))"
   ]
  },
  {
   "cell_type": "markdown",
   "id": "6721f291",
   "metadata": {
    "papermill": {
     "duration": 0.131171,
     "end_time": "2024-04-01T18:04:59.118897",
     "exception": false,
     "start_time": "2024-04-01T18:04:58.987726",
     "status": "completed"
    },
    "tags": []
   },
   "source": [
    "### K-Nearest Neighbours"
   ]
  },
  {
   "cell_type": "code",
   "execution_count": 68,
   "id": "9c17515b",
   "metadata": {
    "execution": {
     "iopub.execute_input": "2024-04-01T18:04:59.386827Z",
     "iopub.status.busy": "2024-04-01T18:04:59.385694Z",
     "iopub.status.idle": "2024-04-01T18:05:23.921814Z",
     "shell.execute_reply": "2024-04-01T18:05:23.921176Z",
     "shell.execute_reply.started": "2024-04-01T08:32:48.979793Z"
    },
    "papermill": {
     "duration": 24.673638,
     "end_time": "2024-04-01T18:05:23.921995",
     "exception": false,
     "start_time": "2024-04-01T18:04:59.248357",
     "status": "completed"
    },
    "tags": []
   },
   "outputs": [
    {
     "name": "stdout",
     "output_type": "stream",
     "text": [
      "Model accuracy on train is:  0.9981640503242026\n",
      "Model accuracy on test is:  0.9967105949441913\n",
      "--------------------------------------------------\n",
      "KappaScore is:  0.9951204869122668\n"
     ]
    }
   ],
   "source": [
    "#fit the model on train data \n",
    "KNN = KNeighborsClassifier().fit(X_train2,Y_train2)\n",
    "#predict on train \n",
    "train_preds5 = KNN.predict(X_train2)\n",
    "#accuracy on train\n",
    "print(\"Model accuracy on train is: \", accuracy_score(Y_train2, train_preds5))\n",
    "\n",
    "#predict on test\n",
    "test_preds5 = KNN.predict(X_test2)\n",
    "#accuracy on test\n",
    "print(\"Model accuracy on test is: \", accuracy_score(Y_test2, test_preds5))\n",
    "print('-'*50)\n",
    "\n",
    "# Kappa Score\n",
    "print('KappaScore is: ', metrics.cohen_kappa_score(Y_test2,test_preds5))"
   ]
  },
  {
   "cell_type": "code",
   "execution_count": 69,
   "id": "39980ca7",
   "metadata": {
    "execution": {
     "iopub.execute_input": "2024-04-01T18:05:24.195607Z",
     "iopub.status.busy": "2024-04-01T18:05:24.194642Z",
     "iopub.status.idle": "2024-04-01T18:05:24.198154Z",
     "shell.execute_reply": "2024-04-01T18:05:24.198687Z",
     "shell.execute_reply.started": "2024-04-01T08:33:21.015372Z"
    },
    "papermill": {
     "duration": 0.14296,
     "end_time": "2024-04-01T18:05:24.198928",
     "exception": false,
     "start_time": "2024-04-01T18:05:24.055968",
     "status": "completed"
    },
    "tags": []
   },
   "outputs": [
    {
     "data": {
      "text/plain": [
       "array(['Poor'], dtype=object)"
      ]
     },
     "execution_count": 69,
     "metadata": {},
     "output_type": "execute_result"
    }
   ],
   "source": [
    "KNN.predict([[7.4,47.7,78.182,100]]) \n",
    "# Predictions on random values"
   ]
  },
  {
   "cell_type": "code",
   "execution_count": 70,
   "id": "9bd71d1c",
   "metadata": {
    "execution": {
     "iopub.execute_input": "2024-04-01T18:05:24.472665Z",
     "iopub.status.busy": "2024-04-01T18:05:24.471884Z",
     "iopub.status.idle": "2024-04-01T18:05:24.477108Z",
     "shell.execute_reply": "2024-04-01T18:05:24.476541Z",
     "shell.execute_reply.started": "2024-04-01T08:33:21.025776Z"
    },
    "papermill": {
     "duration": 0.146133,
     "end_time": "2024-04-01T18:05:24.477278",
     "exception": false,
     "start_time": "2024-04-01T18:05:24.331145",
     "status": "completed"
    },
    "tags": []
   },
   "outputs": [
    {
     "data": {
      "text/plain": [
       "array(['Good'], dtype=object)"
      ]
     },
     "execution_count": 70,
     "metadata": {},
     "output_type": "execute_result"
    }
   ],
   "source": [
    "KNN.predict([[1,1.2,3.12,0]]) \n",
    "# Predictions on random values"
   ]
  },
  {
   "cell_type": "code",
   "execution_count": 71,
   "id": "d058256c",
   "metadata": {
    "execution": {
     "iopub.execute_input": "2024-04-01T18:05:24.752877Z",
     "iopub.status.busy": "2024-04-01T18:05:24.752099Z",
     "iopub.status.idle": "2024-04-01T18:05:24.756214Z",
     "shell.execute_reply": "2024-04-01T18:05:24.755451Z",
     "shell.execute_reply.started": "2024-04-01T08:33:21.044814Z"
    },
    "papermill": {
     "duration": 0.144367,
     "end_time": "2024-04-01T18:05:24.756395",
     "exception": false,
     "start_time": "2024-04-01T18:05:24.612028",
     "status": "completed"
    },
    "tags": []
   },
   "outputs": [
    {
     "data": {
      "text/plain": [
       "array(['Unhealthy'], dtype=object)"
      ]
     },
     "execution_count": 71,
     "metadata": {},
     "output_type": "execute_result"
    }
   ],
   "source": [
    "KNN.predict([[325.7,345,798.182,203]]) \n",
    "# Predictions on random values"
   ]
  },
  {
   "cell_type": "code",
   "execution_count": 72,
   "id": "e852e59e",
   "metadata": {
    "execution": {
     "iopub.execute_input": "2024-04-01T18:05:25.128972Z",
     "iopub.status.busy": "2024-04-01T18:05:25.128112Z",
     "iopub.status.idle": "2024-04-01T18:05:25.697510Z",
     "shell.execute_reply": "2024-04-01T18:05:25.696447Z",
     "shell.execute_reply.started": "2024-04-01T08:34:34.227150Z"
    },
    "papermill": {
     "duration": 0.807846,
     "end_time": "2024-04-01T18:05:25.697694",
     "exception": false,
     "start_time": "2024-04-01T18:05:24.889848",
     "status": "completed"
    },
    "tags": []
   },
   "outputs": [
    {
     "data": {
      "text/plain": [
       "array([[72531,     0,     9,     1,     0,     0],\n",
       "       [    0,  6086,     0,     0,     0,     2],\n",
       "       [    5,     0, 18706,     0,     0,     0],\n",
       "       [    0,     0,     3, 30846,     0,     0],\n",
       "       [    0,     0,     0,     3, 10356,     0],\n",
       "       [    0,     0,     0,     0,     1,  5246]])"
      ]
     },
     "execution_count": 72,
     "metadata": {},
     "output_type": "execute_result"
    }
   ],
   "source": [
    "from sklearn.metrics import confusion_matrix\n",
    "confusion_matrix(Y_test2,test_preds4)"
   ]
  },
  {
   "cell_type": "code",
   "execution_count": 73,
   "id": "b6c4d943",
   "metadata": {
    "execution": {
     "iopub.execute_input": "2024-04-01T18:05:25.971033Z",
     "iopub.status.busy": "2024-04-01T18:05:25.969819Z",
     "iopub.status.idle": "2024-04-01T18:05:25.972731Z",
     "shell.execute_reply": "2024-04-01T18:05:25.972034Z",
     "shell.execute_reply.started": "2024-04-01T08:42:57.820895Z"
    },
    "papermill": {
     "duration": 0.143352,
     "end_time": "2024-04-01T18:05:25.972950",
     "exception": false,
     "start_time": "2024-04-01T18:05:25.829598",
     "status": "completed"
    },
    "tags": []
   },
   "outputs": [],
   "source": [
    "import seaborn as sns\n",
    "import matplotlib as ply\n",
    "%matplotlib inline"
   ]
  },
  {
   "cell_type": "code",
   "execution_count": 74,
   "id": "662dd5f4",
   "metadata": {
    "execution": {
     "iopub.execute_input": "2024-04-01T18:05:26.429262Z",
     "iopub.status.busy": "2024-04-01T18:05:26.337353Z",
     "iopub.status.idle": "2024-04-01T18:05:27.211455Z",
     "shell.execute_reply": "2024-04-01T18:05:27.213036Z",
     "shell.execute_reply.started": "2024-04-01T08:44:16.538024Z"
    },
    "papermill": {
     "duration": 1.107497,
     "end_time": "2024-04-01T18:05:27.213322",
     "exception": false,
     "start_time": "2024-04-01T18:05:26.105825",
     "status": "completed"
    },
    "tags": []
   },
   "outputs": [
    {
     "data": {
      "text/plain": [
       "<AxesSubplot:>"
      ]
     },
     "execution_count": 74,
     "metadata": {},
     "output_type": "execute_result"
    },
    {
     "data": {
      "image/png": "[encoded data removed]",
      "text/plain": [
       "<Figure size 432x288 with 2 Axes>"
      ]
     },
     "metadata": {
      "needs_background": "light"
     },
     "output_type": "display_data"
    }
   ],
   "source": [
    "sns.heatmap(confusion_matrix(Y_test2,test_preds4),cmap=\"BuPu\")"
   ]
  },
  {
   "cell_type": "code",
   "execution_count": 75,
   "id": "36ed3370",
   "metadata": {
    "execution": {
     "iopub.execute_input": "2024-04-01T18:05:27.493273Z",
     "iopub.status.busy": "2024-04-01T18:05:27.492469Z",
     "iopub.status.idle": "2024-04-01T18:05:28.453613Z",
     "shell.execute_reply": "2024-04-01T18:05:28.454204Z",
     "shell.execute_reply.started": "2024-04-01T08:44:40.856634Z"
    },
    "papermill": {
     "duration": 1.107569,
     "end_time": "2024-04-01T18:05:28.454435",
     "exception": false,
     "start_time": "2024-04-01T18:05:27.346866",
     "status": "completed"
    },
    "tags": []
   },
   "outputs": [
    {
     "data": {
      "text/plain": [
       "<AxesSubplot:>"
      ]
     },
     "execution_count": 75,
     "metadata": {},
     "output_type": "execute_result"
    },
    {
     "data": {
      "image/png": "[encoded data removed]",
      "text/plain": [
       "<Figure size 432x288 with 2 Axes>"
      ]
     },
     "metadata": {
      "needs_background": "light"
     },
     "output_type": "display_data"
    }
   ],
   "source": [
    "sns.heatmap(confusion_matrix(Y_test2,test_preds3),cmap=\"Greens\")"
   ]
  },
  {
   "cell_type": "code",
   "execution_count": null,
   "id": "c526e161",
   "metadata": {
    "papermill": {
     "duration": 0.141479,
     "end_time": "2024-04-01T18:05:28.739393",
     "exception": false,
     "start_time": "2024-04-01T18:05:28.597914",
     "status": "completed"
    },
    "tags": []
   },
   "outputs": [],
   "source": []
  }
 ],
 "metadata": {
  "kaggle": {
   "accelerator": "none",
   "dataSources": [
    {
     "datasetId": 1675,
     "sourceId": 2940,
     "sourceType": "datasetVersion"
    }
   ],
   "dockerImageVersionId": 30176,
   "isGpuEnabled": false,
   "isInternetEnabled": true,
   "language": "python",
   "sourceType": "notebook"
  },
  "kernelspec": {
   "display_name": "Python 3",
   "language": "python",
   "name": "python3"
  },
  "language_info": {
   "codemirror_mode": {
    "name": "ipython",
    "version": 3
   },
   "file_extension": ".py",
   "mimetype": "text/x-python",
   "name": "python",
   "nbconvert_exporter": "python",
   "pygments_lexer": "ipython3",
   "version": "3.7.12"
  },
  "papermill": {
   "default_parameters": {},
   "duration": 277.319434,
   "end_time": "2024-04-01T18:05:30.594639",
   "environment_variables": {},
   "exception": null,
   "input_path": "__notebook__.ipynb",
   "output_path": "__notebook__.ipynb",
   "parameters": {},
   "start_time": "2024-04-01T18:00:53.275205",
   "version": "2.3.3"
  }
 },
 "nbformat": 4,
 "nbformat_minor": 5
}
